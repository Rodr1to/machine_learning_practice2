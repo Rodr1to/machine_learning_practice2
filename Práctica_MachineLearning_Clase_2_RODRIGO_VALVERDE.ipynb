{
  "nbformat": 4,
  "nbformat_minor": 0,
  "metadata": {
    "colab": {
      "provenance": []
    },
    "kernelspec": {
      "name": "python3",
      "display_name": "Python 3"
    },
    "language_info": {
      "name": "python"
    }
  },
  "cells": [
    {
      "cell_type": "markdown",
      "source": [
        "# Machine Learning - Clase 2\n",
        "\n",
        "Fecha: **27/11/2023**\n",
        "\n",
        "Autor: **Ing. CIP Francisco Cerna**\n",
        "\n",
        "Objetivo:\n",
        "\n",
        "Aplicar los modelos de Machine Learning de Aprendizaje Supervisado para clasificación e interpretar los resultados de cada uno de los modelos.\n",
        "\n",
        "Fuentes:\n",
        "\n",
        "1. [Clasificación binaria.](https://www.kaggle.com/code/sa7vik/linear-regression-practice-model)\n",
        "2. [Clasificación de múltiples clases.](https://www.kaggle.com/code/huseyinbaytar/medical-cost-prediction)\n",
        "3. [Práctica](https://www.kaggle.com/code/sadiqshah/bike-store-sales-in-europe/notebook)"
      ],
      "metadata": {
        "id": "Y6Se0G0BTUfT"
      }
    },
    {
      "cell_type": "code",
      "source": [
        "import xgboost as xgb\n",
        "from sklearn.datasets import load_iris\n",
        "from sklearn.model_selection import train_test_split\n",
        "from sklearn.metrics import accuracy_score, classification_report\n",
        "\n",
        "import matplotlib.pyplot as plt"
      ],
      "metadata": {
        "id": "0qp5dHPKQKye"
      },
      "execution_count": 1,
      "outputs": []
    },
    {
      "cell_type": "code",
      "execution_count": 2,
      "metadata": {
        "colab": {
          "base_uri": "https://localhost:8080/"
        },
        "id": "DFl90VzmTRUP",
        "outputId": "b47748ee-c37a-4feb-8773-69f57bc43537"
      },
      "outputs": [
        {
          "output_type": "stream",
          "name": "stdout",
          "text": [
            "Accuracy: 0.9666666666666667\n",
            "\n",
            "Classification Report:\n",
            "              precision    recall  f1-score   support\n",
            "\n",
            "      setosa       1.00      1.00      1.00        10\n",
            "  versicolor       1.00      0.90      0.95        10\n",
            "   virginica       0.91      1.00      0.95        10\n",
            "\n",
            "    accuracy                           0.97        30\n",
            "   macro avg       0.97      0.97      0.97        30\n",
            "weighted avg       0.97      0.97      0.97        30\n",
            "\n"
          ]
        }
      ],
      "source": [
        "#Loading the Iris dataset\n",
        "data = load_iris()\n",
        "X, y = data.data, data.target\n",
        "\n",
        "#Splitting the data into training and test sets\n",
        "X_train, X_test, y_train, y_test = train_test_split(X, y, test_size=0.2, random_state=42, stratify=y)\n",
        "\n",
        "#Creating an XGBoost classifier\n",
        "model = xgb.XGBClassifier(\n",
        "    objective='multi:softprob',\n",
        "    num_class=3,\n",
        "    max_depth=1,\n",
        "    learning_rate=1,\n",
        "    subsample=1,\n",
        "    colsample_bytree=1,\n",
        "    n_estimators=10\n",
        ")\n",
        "\n",
        "#Training the model on the training data\n",
        "model.fit(X_train, y_train)\n",
        "\n",
        "#Making predictions on the test set\n",
        "predictions = model.predict(X_test)\n",
        "\n",
        "#Calculating accuracy\n",
        "accuracy = accuracy_score(y_test, predictions)\n",
        "\n",
        "print(\"Accuracy:\", accuracy)\n",
        "print(\"\\nClassification Report:\")\n",
        "print(classification_report(y_test, predictions, target_names=data.target_names))"
      ]
    },
    {
      "cell_type": "markdown",
      "source": [
        "# Parte práctica"
      ],
      "metadata": {
        "id": "u208BH4bQV9c"
      }
    },
    {
      "cell_type": "code",
      "source": [
        "import pandas as pd"
      ],
      "metadata": {
        "id": "sVGhPHueUe-Q"
      },
      "execution_count": 3,
      "outputs": []
    },
    {
      "cell_type": "code",
      "source": [
        "!curl --output clase_2_explicacion-regresion-logistica_multivariable.csv https://raw.githubusercontent.com/fcernafukuzaki/xgboost/main/clase_2_explicacion-regresion-logistica_multivariable.csv"
      ],
      "metadata": {
        "colab": {
          "base_uri": "https://localhost:8080/"
        },
        "id": "sS0j06Ln56Ix",
        "outputId": "f7c46971-b626-4f2f-8f08-c9b9881b1330"
      },
      "execution_count": 4,
      "outputs": [
        {
          "output_type": "stream",
          "name": "stdout",
          "text": [
            "  % Total    % Received % Xferd  Average Speed   Time    Time     Time  Current\n",
            "                                 Dload  Upload   Total   Spent    Left  Speed\n",
            "100 64503  100 64503    0     0   181k      0 --:--:-- --:--:-- --:--:--  182k\n"
          ]
        }
      ]
    },
    {
      "cell_type": "code",
      "source": [
        "df = pd.read_csv('/content/clase_2_explicacion-regresion-logistica_multivariable.csv')"
      ],
      "metadata": {
        "id": "2H5XT7tZUlCI"
      },
      "execution_count": 5,
      "outputs": []
    },
    {
      "cell_type": "code",
      "source": [
        "df.head()"
      ],
      "metadata": {
        "colab": {
          "base_uri": "https://localhost:8080/",
          "height": 206
        },
        "id": "KI0R_Nf0UogG",
        "outputId": "8faf44fb-fa36-44ae-d96f-1bdbf42a40c1"
      },
      "execution_count": 6,
      "outputs": [
        {
          "output_type": "execute_result",
          "data": {
            "text/plain": [
              "  AnimalName symptoms1             symptoms2 symptoms3    symptoms4  \\\n",
              "0        Dog     Fever              Diarrhea  Vomiting  Weight loss   \n",
              "1        Dog     Fever              Diarrhea  Coughing    Tiredness   \n",
              "2        Dog     Fever              Diarrhea  Coughing     Vomiting   \n",
              "3        Dog     Fever  Difficulty breathing  Coughing     Lethargy   \n",
              "4        Dog     Fever              Diarrhea  Coughing     Lethargy   \n",
              "\n",
              "     symptoms5 Dangerous  \n",
              "0  Dehydration       Yes  \n",
              "1        Pains       Yes  \n",
              "2     Anorexia       Yes  \n",
              "3     Sneezing       Yes  \n",
              "4     Blue Eye       Yes  "
            ],
            "text/html": [
              "\n",
              "  <div id=\"df-b4fafa8c-64e8-4a5f-99fb-9b9c2025adc2\" class=\"colab-df-container\">\n",
              "    <div>\n",
              "<style scoped>\n",
              "    .dataframe tbody tr th:only-of-type {\n",
              "        vertical-align: middle;\n",
              "    }\n",
              "\n",
              "    .dataframe tbody tr th {\n",
              "        vertical-align: top;\n",
              "    }\n",
              "\n",
              "    .dataframe thead th {\n",
              "        text-align: right;\n",
              "    }\n",
              "</style>\n",
              "<table border=\"1\" class=\"dataframe\">\n",
              "  <thead>\n",
              "    <tr style=\"text-align: right;\">\n",
              "      <th></th>\n",
              "      <th>AnimalName</th>\n",
              "      <th>symptoms1</th>\n",
              "      <th>symptoms2</th>\n",
              "      <th>symptoms3</th>\n",
              "      <th>symptoms4</th>\n",
              "      <th>symptoms5</th>\n",
              "      <th>Dangerous</th>\n",
              "    </tr>\n",
              "  </thead>\n",
              "  <tbody>\n",
              "    <tr>\n",
              "      <th>0</th>\n",
              "      <td>Dog</td>\n",
              "      <td>Fever</td>\n",
              "      <td>Diarrhea</td>\n",
              "      <td>Vomiting</td>\n",
              "      <td>Weight loss</td>\n",
              "      <td>Dehydration</td>\n",
              "      <td>Yes</td>\n",
              "    </tr>\n",
              "    <tr>\n",
              "      <th>1</th>\n",
              "      <td>Dog</td>\n",
              "      <td>Fever</td>\n",
              "      <td>Diarrhea</td>\n",
              "      <td>Coughing</td>\n",
              "      <td>Tiredness</td>\n",
              "      <td>Pains</td>\n",
              "      <td>Yes</td>\n",
              "    </tr>\n",
              "    <tr>\n",
              "      <th>2</th>\n",
              "      <td>Dog</td>\n",
              "      <td>Fever</td>\n",
              "      <td>Diarrhea</td>\n",
              "      <td>Coughing</td>\n",
              "      <td>Vomiting</td>\n",
              "      <td>Anorexia</td>\n",
              "      <td>Yes</td>\n",
              "    </tr>\n",
              "    <tr>\n",
              "      <th>3</th>\n",
              "      <td>Dog</td>\n",
              "      <td>Fever</td>\n",
              "      <td>Difficulty breathing</td>\n",
              "      <td>Coughing</td>\n",
              "      <td>Lethargy</td>\n",
              "      <td>Sneezing</td>\n",
              "      <td>Yes</td>\n",
              "    </tr>\n",
              "    <tr>\n",
              "      <th>4</th>\n",
              "      <td>Dog</td>\n",
              "      <td>Fever</td>\n",
              "      <td>Diarrhea</td>\n",
              "      <td>Coughing</td>\n",
              "      <td>Lethargy</td>\n",
              "      <td>Blue Eye</td>\n",
              "      <td>Yes</td>\n",
              "    </tr>\n",
              "  </tbody>\n",
              "</table>\n",
              "</div>\n",
              "    <div class=\"colab-df-buttons\">\n",
              "\n",
              "  <div class=\"colab-df-container\">\n",
              "    <button class=\"colab-df-convert\" onclick=\"convertToInteractive('df-b4fafa8c-64e8-4a5f-99fb-9b9c2025adc2')\"\n",
              "            title=\"Convert this dataframe to an interactive table.\"\n",
              "            style=\"display:none;\">\n",
              "\n",
              "  <svg xmlns=\"http://www.w3.org/2000/svg\" height=\"24px\" viewBox=\"0 -960 960 960\">\n",
              "    <path d=\"M120-120v-720h720v720H120Zm60-500h600v-160H180v160Zm220 220h160v-160H400v160Zm0 220h160v-160H400v160ZM180-400h160v-160H180v160Zm440 0h160v-160H620v160ZM180-180h160v-160H180v160Zm440 0h160v-160H620v160Z\"/>\n",
              "  </svg>\n",
              "    </button>\n",
              "\n",
              "  <style>\n",
              "    .colab-df-container {\n",
              "      display:flex;\n",
              "      gap: 12px;\n",
              "    }\n",
              "\n",
              "    .colab-df-convert {\n",
              "      background-color: #E8F0FE;\n",
              "      border: none;\n",
              "      border-radius: 50%;\n",
              "      cursor: pointer;\n",
              "      display: none;\n",
              "      fill: #1967D2;\n",
              "      height: 32px;\n",
              "      padding: 0 0 0 0;\n",
              "      width: 32px;\n",
              "    }\n",
              "\n",
              "    .colab-df-convert:hover {\n",
              "      background-color: #E2EBFA;\n",
              "      box-shadow: 0px 1px 2px rgba(60, 64, 67, 0.3), 0px 1px 3px 1px rgba(60, 64, 67, 0.15);\n",
              "      fill: #174EA6;\n",
              "    }\n",
              "\n",
              "    .colab-df-buttons div {\n",
              "      margin-bottom: 4px;\n",
              "    }\n",
              "\n",
              "    [theme=dark] .colab-df-convert {\n",
              "      background-color: #3B4455;\n",
              "      fill: #D2E3FC;\n",
              "    }\n",
              "\n",
              "    [theme=dark] .colab-df-convert:hover {\n",
              "      background-color: #434B5C;\n",
              "      box-shadow: 0px 1px 3px 1px rgba(0, 0, 0, 0.15);\n",
              "      filter: drop-shadow(0px 1px 2px rgba(0, 0, 0, 0.3));\n",
              "      fill: #FFFFFF;\n",
              "    }\n",
              "  </style>\n",
              "\n",
              "    <script>\n",
              "      const buttonEl =\n",
              "        document.querySelector('#df-b4fafa8c-64e8-4a5f-99fb-9b9c2025adc2 button.colab-df-convert');\n",
              "      buttonEl.style.display =\n",
              "        google.colab.kernel.accessAllowed ? 'block' : 'none';\n",
              "\n",
              "      async function convertToInteractive(key) {\n",
              "        const element = document.querySelector('#df-b4fafa8c-64e8-4a5f-99fb-9b9c2025adc2');\n",
              "        const dataTable =\n",
              "          await google.colab.kernel.invokeFunction('convertToInteractive',\n",
              "                                                    [key], {});\n",
              "        if (!dataTable) return;\n",
              "\n",
              "        const docLinkHtml = 'Like what you see? Visit the ' +\n",
              "          '<a target=\"_blank\" href=https://colab.research.google.com/notebooks/data_table.ipynb>data table notebook</a>'\n",
              "          + ' to learn more about interactive tables.';\n",
              "        element.innerHTML = '';\n",
              "        dataTable['output_type'] = 'display_data';\n",
              "        await google.colab.output.renderOutput(dataTable, element);\n",
              "        const docLink = document.createElement('div');\n",
              "        docLink.innerHTML = docLinkHtml;\n",
              "        element.appendChild(docLink);\n",
              "      }\n",
              "    </script>\n",
              "  </div>\n",
              "\n",
              "\n",
              "<div id=\"df-8870c59c-dd4c-489c-abb7-50890afd6839\">\n",
              "  <button class=\"colab-df-quickchart\" onclick=\"quickchart('df-8870c59c-dd4c-489c-abb7-50890afd6839')\"\n",
              "            title=\"Suggest charts\"\n",
              "            style=\"display:none;\">\n",
              "\n",
              "<svg xmlns=\"http://www.w3.org/2000/svg\" height=\"24px\"viewBox=\"0 0 24 24\"\n",
              "     width=\"24px\">\n",
              "    <g>\n",
              "        <path d=\"M19 3H5c-1.1 0-2 .9-2 2v14c0 1.1.9 2 2 2h14c1.1 0 2-.9 2-2V5c0-1.1-.9-2-2-2zM9 17H7v-7h2v7zm4 0h-2V7h2v10zm4 0h-2v-4h2v4z\"/>\n",
              "    </g>\n",
              "</svg>\n",
              "  </button>\n",
              "\n",
              "<style>\n",
              "  .colab-df-quickchart {\n",
              "      --bg-color: #E8F0FE;\n",
              "      --fill-color: #1967D2;\n",
              "      --hover-bg-color: #E2EBFA;\n",
              "      --hover-fill-color: #174EA6;\n",
              "      --disabled-fill-color: #AAA;\n",
              "      --disabled-bg-color: #DDD;\n",
              "  }\n",
              "\n",
              "  [theme=dark] .colab-df-quickchart {\n",
              "      --bg-color: #3B4455;\n",
              "      --fill-color: #D2E3FC;\n",
              "      --hover-bg-color: #434B5C;\n",
              "      --hover-fill-color: #FFFFFF;\n",
              "      --disabled-bg-color: #3B4455;\n",
              "      --disabled-fill-color: #666;\n",
              "  }\n",
              "\n",
              "  .colab-df-quickchart {\n",
              "    background-color: var(--bg-color);\n",
              "    border: none;\n",
              "    border-radius: 50%;\n",
              "    cursor: pointer;\n",
              "    display: none;\n",
              "    fill: var(--fill-color);\n",
              "    height: 32px;\n",
              "    padding: 0;\n",
              "    width: 32px;\n",
              "  }\n",
              "\n",
              "  .colab-df-quickchart:hover {\n",
              "    background-color: var(--hover-bg-color);\n",
              "    box-shadow: 0 1px 2px rgba(60, 64, 67, 0.3), 0 1px 3px 1px rgba(60, 64, 67, 0.15);\n",
              "    fill: var(--button-hover-fill-color);\n",
              "  }\n",
              "\n",
              "  .colab-df-quickchart-complete:disabled,\n",
              "  .colab-df-quickchart-complete:disabled:hover {\n",
              "    background-color: var(--disabled-bg-color);\n",
              "    fill: var(--disabled-fill-color);\n",
              "    box-shadow: none;\n",
              "  }\n",
              "\n",
              "  .colab-df-spinner {\n",
              "    border: 2px solid var(--fill-color);\n",
              "    border-color: transparent;\n",
              "    border-bottom-color: var(--fill-color);\n",
              "    animation:\n",
              "      spin 1s steps(1) infinite;\n",
              "  }\n",
              "\n",
              "  @keyframes spin {\n",
              "    0% {\n",
              "      border-color: transparent;\n",
              "      border-bottom-color: var(--fill-color);\n",
              "      border-left-color: var(--fill-color);\n",
              "    }\n",
              "    20% {\n",
              "      border-color: transparent;\n",
              "      border-left-color: var(--fill-color);\n",
              "      border-top-color: var(--fill-color);\n",
              "    }\n",
              "    30% {\n",
              "      border-color: transparent;\n",
              "      border-left-color: var(--fill-color);\n",
              "      border-top-color: var(--fill-color);\n",
              "      border-right-color: var(--fill-color);\n",
              "    }\n",
              "    40% {\n",
              "      border-color: transparent;\n",
              "      border-right-color: var(--fill-color);\n",
              "      border-top-color: var(--fill-color);\n",
              "    }\n",
              "    60% {\n",
              "      border-color: transparent;\n",
              "      border-right-color: var(--fill-color);\n",
              "    }\n",
              "    80% {\n",
              "      border-color: transparent;\n",
              "      border-right-color: var(--fill-color);\n",
              "      border-bottom-color: var(--fill-color);\n",
              "    }\n",
              "    90% {\n",
              "      border-color: transparent;\n",
              "      border-bottom-color: var(--fill-color);\n",
              "    }\n",
              "  }\n",
              "</style>\n",
              "\n",
              "  <script>\n",
              "    async function quickchart(key) {\n",
              "      const quickchartButtonEl =\n",
              "        document.querySelector('#' + key + ' button');\n",
              "      quickchartButtonEl.disabled = true;  // To prevent multiple clicks.\n",
              "      quickchartButtonEl.classList.add('colab-df-spinner');\n",
              "      try {\n",
              "        const charts = await google.colab.kernel.invokeFunction(\n",
              "            'suggestCharts', [key], {});\n",
              "      } catch (error) {\n",
              "        console.error('Error during call to suggestCharts:', error);\n",
              "      }\n",
              "      quickchartButtonEl.classList.remove('colab-df-spinner');\n",
              "      quickchartButtonEl.classList.add('colab-df-quickchart-complete');\n",
              "    }\n",
              "    (() => {\n",
              "      let quickchartButtonEl =\n",
              "        document.querySelector('#df-8870c59c-dd4c-489c-abb7-50890afd6839 button');\n",
              "      quickchartButtonEl.style.display =\n",
              "        google.colab.kernel.accessAllowed ? 'block' : 'none';\n",
              "    })();\n",
              "  </script>\n",
              "</div>\n",
              "    </div>\n",
              "  </div>\n"
            ]
          },
          "metadata": {},
          "execution_count": 6
        }
      ]
    },
    {
      "cell_type": "code",
      "source": [
        "df.info()"
      ],
      "metadata": {
        "colab": {
          "base_uri": "https://localhost:8080/"
        },
        "id": "4qDSWv8TWMpt",
        "outputId": "3efddbde-617e-4725-e53e-fdaa5e118bcd"
      },
      "execution_count": 7,
      "outputs": [
        {
          "output_type": "stream",
          "name": "stdout",
          "text": [
            "<class 'pandas.core.frame.DataFrame'>\n",
            "RangeIndex: 871 entries, 0 to 870\n",
            "Data columns (total 7 columns):\n",
            " #   Column      Non-Null Count  Dtype \n",
            "---  ------      --------------  ----- \n",
            " 0   AnimalName  871 non-null    object\n",
            " 1   symptoms1   871 non-null    object\n",
            " 2   symptoms2   871 non-null    object\n",
            " 3   symptoms3   871 non-null    object\n",
            " 4   symptoms4   871 non-null    object\n",
            " 5   symptoms5   871 non-null    object\n",
            " 6   Dangerous   869 non-null    object\n",
            "dtypes: object(7)\n",
            "memory usage: 47.8+ KB\n"
          ]
        }
      ]
    },
    {
      "cell_type": "code",
      "source": [
        "print(df.isnull().values.any())"
      ],
      "metadata": {
        "colab": {
          "base_uri": "https://localhost:8080/"
        },
        "id": "Cbq_U_-0WT1A",
        "outputId": "d38e4d1d-dae6-403b-ef5f-e1afb83a7e3d"
      },
      "execution_count": 8,
      "outputs": [
        {
          "output_type": "stream",
          "name": "stdout",
          "text": [
            "True\n"
          ]
        }
      ]
    },
    {
      "cell_type": "code",
      "source": [
        "df.describe(include='all')"
      ],
      "metadata": {
        "colab": {
          "base_uri": "https://localhost:8080/",
          "height": 175
        },
        "id": "2IFMB42jWZaq",
        "outputId": "aecb9d4c-75e1-431d-c2be-1d47d81fdd62"
      },
      "execution_count": 9,
      "outputs": [
        {
          "output_type": "execute_result",
          "data": {
            "text/plain": [
              "       AnimalName symptoms1 symptoms2 symptoms3    symptoms4 symptoms5  \\\n",
              "count         871       871       871       871          871       871   \n",
              "unique         46       232       230       229          217       203   \n",
              "top     Buffaloes     Fever  Diarrhea  Coughing  Weight loss     Pains   \n",
              "freq          129       257       119        95          117        99   \n",
              "\n",
              "       Dangerous  \n",
              "count        869  \n",
              "unique         2  \n",
              "top          Yes  \n",
              "freq         849  "
            ],
            "text/html": [
              "\n",
              "  <div id=\"df-eee6f486-146a-447c-8744-de102c8cc715\" class=\"colab-df-container\">\n",
              "    <div>\n",
              "<style scoped>\n",
              "    .dataframe tbody tr th:only-of-type {\n",
              "        vertical-align: middle;\n",
              "    }\n",
              "\n",
              "    .dataframe tbody tr th {\n",
              "        vertical-align: top;\n",
              "    }\n",
              "\n",
              "    .dataframe thead th {\n",
              "        text-align: right;\n",
              "    }\n",
              "</style>\n",
              "<table border=\"1\" class=\"dataframe\">\n",
              "  <thead>\n",
              "    <tr style=\"text-align: right;\">\n",
              "      <th></th>\n",
              "      <th>AnimalName</th>\n",
              "      <th>symptoms1</th>\n",
              "      <th>symptoms2</th>\n",
              "      <th>symptoms3</th>\n",
              "      <th>symptoms4</th>\n",
              "      <th>symptoms5</th>\n",
              "      <th>Dangerous</th>\n",
              "    </tr>\n",
              "  </thead>\n",
              "  <tbody>\n",
              "    <tr>\n",
              "      <th>count</th>\n",
              "      <td>871</td>\n",
              "      <td>871</td>\n",
              "      <td>871</td>\n",
              "      <td>871</td>\n",
              "      <td>871</td>\n",
              "      <td>871</td>\n",
              "      <td>869</td>\n",
              "    </tr>\n",
              "    <tr>\n",
              "      <th>unique</th>\n",
              "      <td>46</td>\n",
              "      <td>232</td>\n",
              "      <td>230</td>\n",
              "      <td>229</td>\n",
              "      <td>217</td>\n",
              "      <td>203</td>\n",
              "      <td>2</td>\n",
              "    </tr>\n",
              "    <tr>\n",
              "      <th>top</th>\n",
              "      <td>Buffaloes</td>\n",
              "      <td>Fever</td>\n",
              "      <td>Diarrhea</td>\n",
              "      <td>Coughing</td>\n",
              "      <td>Weight loss</td>\n",
              "      <td>Pains</td>\n",
              "      <td>Yes</td>\n",
              "    </tr>\n",
              "    <tr>\n",
              "      <th>freq</th>\n",
              "      <td>129</td>\n",
              "      <td>257</td>\n",
              "      <td>119</td>\n",
              "      <td>95</td>\n",
              "      <td>117</td>\n",
              "      <td>99</td>\n",
              "      <td>849</td>\n",
              "    </tr>\n",
              "  </tbody>\n",
              "</table>\n",
              "</div>\n",
              "    <div class=\"colab-df-buttons\">\n",
              "\n",
              "  <div class=\"colab-df-container\">\n",
              "    <button class=\"colab-df-convert\" onclick=\"convertToInteractive('df-eee6f486-146a-447c-8744-de102c8cc715')\"\n",
              "            title=\"Convert this dataframe to an interactive table.\"\n",
              "            style=\"display:none;\">\n",
              "\n",
              "  <svg xmlns=\"http://www.w3.org/2000/svg\" height=\"24px\" viewBox=\"0 -960 960 960\">\n",
              "    <path d=\"M120-120v-720h720v720H120Zm60-500h600v-160H180v160Zm220 220h160v-160H400v160Zm0 220h160v-160H400v160ZM180-400h160v-160H180v160Zm440 0h160v-160H620v160ZM180-180h160v-160H180v160Zm440 0h160v-160H620v160Z\"/>\n",
              "  </svg>\n",
              "    </button>\n",
              "\n",
              "  <style>\n",
              "    .colab-df-container {\n",
              "      display:flex;\n",
              "      gap: 12px;\n",
              "    }\n",
              "\n",
              "    .colab-df-convert {\n",
              "      background-color: #E8F0FE;\n",
              "      border: none;\n",
              "      border-radius: 50%;\n",
              "      cursor: pointer;\n",
              "      display: none;\n",
              "      fill: #1967D2;\n",
              "      height: 32px;\n",
              "      padding: 0 0 0 0;\n",
              "      width: 32px;\n",
              "    }\n",
              "\n",
              "    .colab-df-convert:hover {\n",
              "      background-color: #E2EBFA;\n",
              "      box-shadow: 0px 1px 2px rgba(60, 64, 67, 0.3), 0px 1px 3px 1px rgba(60, 64, 67, 0.15);\n",
              "      fill: #174EA6;\n",
              "    }\n",
              "\n",
              "    .colab-df-buttons div {\n",
              "      margin-bottom: 4px;\n",
              "    }\n",
              "\n",
              "    [theme=dark] .colab-df-convert {\n",
              "      background-color: #3B4455;\n",
              "      fill: #D2E3FC;\n",
              "    }\n",
              "\n",
              "    [theme=dark] .colab-df-convert:hover {\n",
              "      background-color: #434B5C;\n",
              "      box-shadow: 0px 1px 3px 1px rgba(0, 0, 0, 0.15);\n",
              "      filter: drop-shadow(0px 1px 2px rgba(0, 0, 0, 0.3));\n",
              "      fill: #FFFFFF;\n",
              "    }\n",
              "  </style>\n",
              "\n",
              "    <script>\n",
              "      const buttonEl =\n",
              "        document.querySelector('#df-eee6f486-146a-447c-8744-de102c8cc715 button.colab-df-convert');\n",
              "      buttonEl.style.display =\n",
              "        google.colab.kernel.accessAllowed ? 'block' : 'none';\n",
              "\n",
              "      async function convertToInteractive(key) {\n",
              "        const element = document.querySelector('#df-eee6f486-146a-447c-8744-de102c8cc715');\n",
              "        const dataTable =\n",
              "          await google.colab.kernel.invokeFunction('convertToInteractive',\n",
              "                                                    [key], {});\n",
              "        if (!dataTable) return;\n",
              "\n",
              "        const docLinkHtml = 'Like what you see? Visit the ' +\n",
              "          '<a target=\"_blank\" href=https://colab.research.google.com/notebooks/data_table.ipynb>data table notebook</a>'\n",
              "          + ' to learn more about interactive tables.';\n",
              "        element.innerHTML = '';\n",
              "        dataTable['output_type'] = 'display_data';\n",
              "        await google.colab.output.renderOutput(dataTable, element);\n",
              "        const docLink = document.createElement('div');\n",
              "        docLink.innerHTML = docLinkHtml;\n",
              "        element.appendChild(docLink);\n",
              "      }\n",
              "    </script>\n",
              "  </div>\n",
              "\n",
              "\n",
              "<div id=\"df-aafc4113-1eeb-4756-b062-6630a8f18250\">\n",
              "  <button class=\"colab-df-quickchart\" onclick=\"quickchart('df-aafc4113-1eeb-4756-b062-6630a8f18250')\"\n",
              "            title=\"Suggest charts\"\n",
              "            style=\"display:none;\">\n",
              "\n",
              "<svg xmlns=\"http://www.w3.org/2000/svg\" height=\"24px\"viewBox=\"0 0 24 24\"\n",
              "     width=\"24px\">\n",
              "    <g>\n",
              "        <path d=\"M19 3H5c-1.1 0-2 .9-2 2v14c0 1.1.9 2 2 2h14c1.1 0 2-.9 2-2V5c0-1.1-.9-2-2-2zM9 17H7v-7h2v7zm4 0h-2V7h2v10zm4 0h-2v-4h2v4z\"/>\n",
              "    </g>\n",
              "</svg>\n",
              "  </button>\n",
              "\n",
              "<style>\n",
              "  .colab-df-quickchart {\n",
              "      --bg-color: #E8F0FE;\n",
              "      --fill-color: #1967D2;\n",
              "      --hover-bg-color: #E2EBFA;\n",
              "      --hover-fill-color: #174EA6;\n",
              "      --disabled-fill-color: #AAA;\n",
              "      --disabled-bg-color: #DDD;\n",
              "  }\n",
              "\n",
              "  [theme=dark] .colab-df-quickchart {\n",
              "      --bg-color: #3B4455;\n",
              "      --fill-color: #D2E3FC;\n",
              "      --hover-bg-color: #434B5C;\n",
              "      --hover-fill-color: #FFFFFF;\n",
              "      --disabled-bg-color: #3B4455;\n",
              "      --disabled-fill-color: #666;\n",
              "  }\n",
              "\n",
              "  .colab-df-quickchart {\n",
              "    background-color: var(--bg-color);\n",
              "    border: none;\n",
              "    border-radius: 50%;\n",
              "    cursor: pointer;\n",
              "    display: none;\n",
              "    fill: var(--fill-color);\n",
              "    height: 32px;\n",
              "    padding: 0;\n",
              "    width: 32px;\n",
              "  }\n",
              "\n",
              "  .colab-df-quickchart:hover {\n",
              "    background-color: var(--hover-bg-color);\n",
              "    box-shadow: 0 1px 2px rgba(60, 64, 67, 0.3), 0 1px 3px 1px rgba(60, 64, 67, 0.15);\n",
              "    fill: var(--button-hover-fill-color);\n",
              "  }\n",
              "\n",
              "  .colab-df-quickchart-complete:disabled,\n",
              "  .colab-df-quickchart-complete:disabled:hover {\n",
              "    background-color: var(--disabled-bg-color);\n",
              "    fill: var(--disabled-fill-color);\n",
              "    box-shadow: none;\n",
              "  }\n",
              "\n",
              "  .colab-df-spinner {\n",
              "    border: 2px solid var(--fill-color);\n",
              "    border-color: transparent;\n",
              "    border-bottom-color: var(--fill-color);\n",
              "    animation:\n",
              "      spin 1s steps(1) infinite;\n",
              "  }\n",
              "\n",
              "  @keyframes spin {\n",
              "    0% {\n",
              "      border-color: transparent;\n",
              "      border-bottom-color: var(--fill-color);\n",
              "      border-left-color: var(--fill-color);\n",
              "    }\n",
              "    20% {\n",
              "      border-color: transparent;\n",
              "      border-left-color: var(--fill-color);\n",
              "      border-top-color: var(--fill-color);\n",
              "    }\n",
              "    30% {\n",
              "      border-color: transparent;\n",
              "      border-left-color: var(--fill-color);\n",
              "      border-top-color: var(--fill-color);\n",
              "      border-right-color: var(--fill-color);\n",
              "    }\n",
              "    40% {\n",
              "      border-color: transparent;\n",
              "      border-right-color: var(--fill-color);\n",
              "      border-top-color: var(--fill-color);\n",
              "    }\n",
              "    60% {\n",
              "      border-color: transparent;\n",
              "      border-right-color: var(--fill-color);\n",
              "    }\n",
              "    80% {\n",
              "      border-color: transparent;\n",
              "      border-right-color: var(--fill-color);\n",
              "      border-bottom-color: var(--fill-color);\n",
              "    }\n",
              "    90% {\n",
              "      border-color: transparent;\n",
              "      border-bottom-color: var(--fill-color);\n",
              "    }\n",
              "  }\n",
              "</style>\n",
              "\n",
              "  <script>\n",
              "    async function quickchart(key) {\n",
              "      const quickchartButtonEl =\n",
              "        document.querySelector('#' + key + ' button');\n",
              "      quickchartButtonEl.disabled = true;  // To prevent multiple clicks.\n",
              "      quickchartButtonEl.classList.add('colab-df-spinner');\n",
              "      try {\n",
              "        const charts = await google.colab.kernel.invokeFunction(\n",
              "            'suggestCharts', [key], {});\n",
              "      } catch (error) {\n",
              "        console.error('Error during call to suggestCharts:', error);\n",
              "      }\n",
              "      quickchartButtonEl.classList.remove('colab-df-spinner');\n",
              "      quickchartButtonEl.classList.add('colab-df-quickchart-complete');\n",
              "    }\n",
              "    (() => {\n",
              "      let quickchartButtonEl =\n",
              "        document.querySelector('#df-aafc4113-1eeb-4756-b062-6630a8f18250 button');\n",
              "      quickchartButtonEl.style.display =\n",
              "        google.colab.kernel.accessAllowed ? 'block' : 'none';\n",
              "    })();\n",
              "  </script>\n",
              "</div>\n",
              "    </div>\n",
              "  </div>\n"
            ]
          },
          "metadata": {},
          "execution_count": 9
        }
      ]
    },
    {
      "cell_type": "markdown",
      "source": [
        "Validar si no existen registros duplicados."
      ],
      "metadata": {
        "id": "QHPULaphCywO"
      }
    },
    {
      "cell_type": "code",
      "source": [
        "df[df.duplicated()]"
      ],
      "metadata": {
        "colab": {
          "base_uri": "https://localhost:8080/",
          "height": 928
        },
        "id": "tjIyYbL_C1B4",
        "outputId": "fa1fdb35-07a2-4868-d765-5bed0c9bbf8c"
      },
      "execution_count": 10,
      "outputs": [
        {
          "output_type": "execute_result",
          "data": {
            "text/plain": [
              "    AnimalName                symptoms1         symptoms2  \\\n",
              "772      Tiger  Fetopelvic dispropotion    Uteria inertia   \n",
              "773      Tiger  Fetopelvic dispropotion    Uteria inertia   \n",
              "774      Tiger  Fetopelvic dispropotion    Uteria inertia   \n",
              "775      Tiger  Fetopelvic dispropotion    Uteria inertia   \n",
              "776      Tiger  Fetopelvic dispropotion    Uteria inertia   \n",
              "777      Tiger  Fetopelvic dispropotion    Uteria inertia   \n",
              "778      Tiger  Fetopelvic dispropotion    Uteria inertia   \n",
              "779      Tiger  Fetopelvic dispropotion    Uteria inertia   \n",
              "780      Tiger  Fetopelvic dispropotion    Uteria inertia   \n",
              "781      Tiger  Fetopelvic dispropotion    Uteria inertia   \n",
              "782      Tiger  Fetopelvic dispropotion    Uteria inertia   \n",
              "784     Donkey  Fetopelvic dispropotion    Uteria inertia   \n",
              "785     Donkey  Fetopelvic dispropotion    Uteria inertia   \n",
              "786     Donkey  Fetopelvic dispropotion    Uteria inertia   \n",
              "787     Donkey  Fetopelvic dispropotion    Uteria inertia   \n",
              "788     Donkey  Fetopelvic dispropotion    Uteria inertia   \n",
              "826       Deer                  wasting         stumbling   \n",
              "827       Deer                  wasting         stumbling   \n",
              "828       Deer                  wasting         stumbling   \n",
              "829       Deer                  wasting         stumbling   \n",
              "830       Deer                  wasting         stumbling   \n",
              "831       Deer                  wasting         stumbling   \n",
              "832       Deer                  wasting         stumbling   \n",
              "833       Deer                  wasting         stumbling   \n",
              "834       Deer                  wasting         stumbling   \n",
              "837       Deer             sudden death  high temperature   \n",
              "842       Deer                    fever  loss of appetite   \n",
              "843       Deer                    fever  loss of appetite   \n",
              "\n",
              "                       symptoms3                 symptoms4          symptoms5  \\\n",
              "772              Malpresentation                     Death              Pains   \n",
              "773              Malpresentation                     Death              Pains   \n",
              "774              Malpresentation                     Death              Pains   \n",
              "775              Malpresentation                     Death              Pains   \n",
              "776              Malpresentation                     Death              Pains   \n",
              "777              Malpresentation                     Death              Pains   \n",
              "778              Malpresentation                     Death              Pains   \n",
              "779              Malpresentation                     Death              Pains   \n",
              "780              Malpresentation                     Death              Pains   \n",
              "781              Malpresentation                     Death              Pains   \n",
              "782              Malpresentation                     Death              Pains   \n",
              "784              Malpresentation                     Death              Pains   \n",
              "785              Malpresentation                     Death              Pains   \n",
              "786              Malpresentation                     Death              Pains   \n",
              "787              Malpresentation                     Death              Pains   \n",
              "788              Malpresentation                     Death              Pains   \n",
              "826                 listlessness                  drooling      drooping ears   \n",
              "827                 listlessness                  drooling  urination problem   \n",
              "828                 listlessness                  drooling  urination problem   \n",
              "829                 listlessness                  drooling  urination problem   \n",
              "830                 listlessness                  drooling  urination problem   \n",
              "831                 listlessness                  drooling  urination problem   \n",
              "832                 listlessness                  drooling  urination problem   \n",
              "833                 listlessness                  drooling      drooping ears   \n",
              "834                 listlessness                  drooling      drooping ears   \n",
              "837          difficulty breating               Weight loss          trembling   \n",
              "842  rapid pulse and heart rates  lameness in affected leg         depression   \n",
              "843  rapid pulse and heart rates  lameness in affected leg         depression   \n",
              "\n",
              "    Dangerous  \n",
              "772       Yes  \n",
              "773       Yes  \n",
              "774       Yes  \n",
              "775       Yes  \n",
              "776       Yes  \n",
              "777       Yes  \n",
              "778       Yes  \n",
              "779       Yes  \n",
              "780       Yes  \n",
              "781       Yes  \n",
              "782       Yes  \n",
              "784       Yes  \n",
              "785       Yes  \n",
              "786       Yes  \n",
              "787       Yes  \n",
              "788       Yes  \n",
              "826       Yes  \n",
              "827       Yes  \n",
              "828       Yes  \n",
              "829       Yes  \n",
              "830       Yes  \n",
              "831       Yes  \n",
              "832       Yes  \n",
              "833       Yes  \n",
              "834       Yes  \n",
              "837       Yes  \n",
              "842       Yes  \n",
              "843       Yes  "
            ],
            "text/html": [
              "\n",
              "  <div id=\"df-0faf2fd2-60ba-465e-985f-5c1d49df4052\" class=\"colab-df-container\">\n",
              "    <div>\n",
              "<style scoped>\n",
              "    .dataframe tbody tr th:only-of-type {\n",
              "        vertical-align: middle;\n",
              "    }\n",
              "\n",
              "    .dataframe tbody tr th {\n",
              "        vertical-align: top;\n",
              "    }\n",
              "\n",
              "    .dataframe thead th {\n",
              "        text-align: right;\n",
              "    }\n",
              "</style>\n",
              "<table border=\"1\" class=\"dataframe\">\n",
              "  <thead>\n",
              "    <tr style=\"text-align: right;\">\n",
              "      <th></th>\n",
              "      <th>AnimalName</th>\n",
              "      <th>symptoms1</th>\n",
              "      <th>symptoms2</th>\n",
              "      <th>symptoms3</th>\n",
              "      <th>symptoms4</th>\n",
              "      <th>symptoms5</th>\n",
              "      <th>Dangerous</th>\n",
              "    </tr>\n",
              "  </thead>\n",
              "  <tbody>\n",
              "    <tr>\n",
              "      <th>772</th>\n",
              "      <td>Tiger</td>\n",
              "      <td>Fetopelvic dispropotion</td>\n",
              "      <td>Uteria inertia</td>\n",
              "      <td>Malpresentation</td>\n",
              "      <td>Death</td>\n",
              "      <td>Pains</td>\n",
              "      <td>Yes</td>\n",
              "    </tr>\n",
              "    <tr>\n",
              "      <th>773</th>\n",
              "      <td>Tiger</td>\n",
              "      <td>Fetopelvic dispropotion</td>\n",
              "      <td>Uteria inertia</td>\n",
              "      <td>Malpresentation</td>\n",
              "      <td>Death</td>\n",
              "      <td>Pains</td>\n",
              "      <td>Yes</td>\n",
              "    </tr>\n",
              "    <tr>\n",
              "      <th>774</th>\n",
              "      <td>Tiger</td>\n",
              "      <td>Fetopelvic dispropotion</td>\n",
              "      <td>Uteria inertia</td>\n",
              "      <td>Malpresentation</td>\n",
              "      <td>Death</td>\n",
              "      <td>Pains</td>\n",
              "      <td>Yes</td>\n",
              "    </tr>\n",
              "    <tr>\n",
              "      <th>775</th>\n",
              "      <td>Tiger</td>\n",
              "      <td>Fetopelvic dispropotion</td>\n",
              "      <td>Uteria inertia</td>\n",
              "      <td>Malpresentation</td>\n",
              "      <td>Death</td>\n",
              "      <td>Pains</td>\n",
              "      <td>Yes</td>\n",
              "    </tr>\n",
              "    <tr>\n",
              "      <th>776</th>\n",
              "      <td>Tiger</td>\n",
              "      <td>Fetopelvic dispropotion</td>\n",
              "      <td>Uteria inertia</td>\n",
              "      <td>Malpresentation</td>\n",
              "      <td>Death</td>\n",
              "      <td>Pains</td>\n",
              "      <td>Yes</td>\n",
              "    </tr>\n",
              "    <tr>\n",
              "      <th>777</th>\n",
              "      <td>Tiger</td>\n",
              "      <td>Fetopelvic dispropotion</td>\n",
              "      <td>Uteria inertia</td>\n",
              "      <td>Malpresentation</td>\n",
              "      <td>Death</td>\n",
              "      <td>Pains</td>\n",
              "      <td>Yes</td>\n",
              "    </tr>\n",
              "    <tr>\n",
              "      <th>778</th>\n",
              "      <td>Tiger</td>\n",
              "      <td>Fetopelvic dispropotion</td>\n",
              "      <td>Uteria inertia</td>\n",
              "      <td>Malpresentation</td>\n",
              "      <td>Death</td>\n",
              "      <td>Pains</td>\n",
              "      <td>Yes</td>\n",
              "    </tr>\n",
              "    <tr>\n",
              "      <th>779</th>\n",
              "      <td>Tiger</td>\n",
              "      <td>Fetopelvic dispropotion</td>\n",
              "      <td>Uteria inertia</td>\n",
              "      <td>Malpresentation</td>\n",
              "      <td>Death</td>\n",
              "      <td>Pains</td>\n",
              "      <td>Yes</td>\n",
              "    </tr>\n",
              "    <tr>\n",
              "      <th>780</th>\n",
              "      <td>Tiger</td>\n",
              "      <td>Fetopelvic dispropotion</td>\n",
              "      <td>Uteria inertia</td>\n",
              "      <td>Malpresentation</td>\n",
              "      <td>Death</td>\n",
              "      <td>Pains</td>\n",
              "      <td>Yes</td>\n",
              "    </tr>\n",
              "    <tr>\n",
              "      <th>781</th>\n",
              "      <td>Tiger</td>\n",
              "      <td>Fetopelvic dispropotion</td>\n",
              "      <td>Uteria inertia</td>\n",
              "      <td>Malpresentation</td>\n",
              "      <td>Death</td>\n",
              "      <td>Pains</td>\n",
              "      <td>Yes</td>\n",
              "    </tr>\n",
              "    <tr>\n",
              "      <th>782</th>\n",
              "      <td>Tiger</td>\n",
              "      <td>Fetopelvic dispropotion</td>\n",
              "      <td>Uteria inertia</td>\n",
              "      <td>Malpresentation</td>\n",
              "      <td>Death</td>\n",
              "      <td>Pains</td>\n",
              "      <td>Yes</td>\n",
              "    </tr>\n",
              "    <tr>\n",
              "      <th>784</th>\n",
              "      <td>Donkey</td>\n",
              "      <td>Fetopelvic dispropotion</td>\n",
              "      <td>Uteria inertia</td>\n",
              "      <td>Malpresentation</td>\n",
              "      <td>Death</td>\n",
              "      <td>Pains</td>\n",
              "      <td>Yes</td>\n",
              "    </tr>\n",
              "    <tr>\n",
              "      <th>785</th>\n",
              "      <td>Donkey</td>\n",
              "      <td>Fetopelvic dispropotion</td>\n",
              "      <td>Uteria inertia</td>\n",
              "      <td>Malpresentation</td>\n",
              "      <td>Death</td>\n",
              "      <td>Pains</td>\n",
              "      <td>Yes</td>\n",
              "    </tr>\n",
              "    <tr>\n",
              "      <th>786</th>\n",
              "      <td>Donkey</td>\n",
              "      <td>Fetopelvic dispropotion</td>\n",
              "      <td>Uteria inertia</td>\n",
              "      <td>Malpresentation</td>\n",
              "      <td>Death</td>\n",
              "      <td>Pains</td>\n",
              "      <td>Yes</td>\n",
              "    </tr>\n",
              "    <tr>\n",
              "      <th>787</th>\n",
              "      <td>Donkey</td>\n",
              "      <td>Fetopelvic dispropotion</td>\n",
              "      <td>Uteria inertia</td>\n",
              "      <td>Malpresentation</td>\n",
              "      <td>Death</td>\n",
              "      <td>Pains</td>\n",
              "      <td>Yes</td>\n",
              "    </tr>\n",
              "    <tr>\n",
              "      <th>788</th>\n",
              "      <td>Donkey</td>\n",
              "      <td>Fetopelvic dispropotion</td>\n",
              "      <td>Uteria inertia</td>\n",
              "      <td>Malpresentation</td>\n",
              "      <td>Death</td>\n",
              "      <td>Pains</td>\n",
              "      <td>Yes</td>\n",
              "    </tr>\n",
              "    <tr>\n",
              "      <th>826</th>\n",
              "      <td>Deer</td>\n",
              "      <td>wasting</td>\n",
              "      <td>stumbling</td>\n",
              "      <td>listlessness</td>\n",
              "      <td>drooling</td>\n",
              "      <td>drooping ears</td>\n",
              "      <td>Yes</td>\n",
              "    </tr>\n",
              "    <tr>\n",
              "      <th>827</th>\n",
              "      <td>Deer</td>\n",
              "      <td>wasting</td>\n",
              "      <td>stumbling</td>\n",
              "      <td>listlessness</td>\n",
              "      <td>drooling</td>\n",
              "      <td>urination problem</td>\n",
              "      <td>Yes</td>\n",
              "    </tr>\n",
              "    <tr>\n",
              "      <th>828</th>\n",
              "      <td>Deer</td>\n",
              "      <td>wasting</td>\n",
              "      <td>stumbling</td>\n",
              "      <td>listlessness</td>\n",
              "      <td>drooling</td>\n",
              "      <td>urination problem</td>\n",
              "      <td>Yes</td>\n",
              "    </tr>\n",
              "    <tr>\n",
              "      <th>829</th>\n",
              "      <td>Deer</td>\n",
              "      <td>wasting</td>\n",
              "      <td>stumbling</td>\n",
              "      <td>listlessness</td>\n",
              "      <td>drooling</td>\n",
              "      <td>urination problem</td>\n",
              "      <td>Yes</td>\n",
              "    </tr>\n",
              "    <tr>\n",
              "      <th>830</th>\n",
              "      <td>Deer</td>\n",
              "      <td>wasting</td>\n",
              "      <td>stumbling</td>\n",
              "      <td>listlessness</td>\n",
              "      <td>drooling</td>\n",
              "      <td>urination problem</td>\n",
              "      <td>Yes</td>\n",
              "    </tr>\n",
              "    <tr>\n",
              "      <th>831</th>\n",
              "      <td>Deer</td>\n",
              "      <td>wasting</td>\n",
              "      <td>stumbling</td>\n",
              "      <td>listlessness</td>\n",
              "      <td>drooling</td>\n",
              "      <td>urination problem</td>\n",
              "      <td>Yes</td>\n",
              "    </tr>\n",
              "    <tr>\n",
              "      <th>832</th>\n",
              "      <td>Deer</td>\n",
              "      <td>wasting</td>\n",
              "      <td>stumbling</td>\n",
              "      <td>listlessness</td>\n",
              "      <td>drooling</td>\n",
              "      <td>urination problem</td>\n",
              "      <td>Yes</td>\n",
              "    </tr>\n",
              "    <tr>\n",
              "      <th>833</th>\n",
              "      <td>Deer</td>\n",
              "      <td>wasting</td>\n",
              "      <td>stumbling</td>\n",
              "      <td>listlessness</td>\n",
              "      <td>drooling</td>\n",
              "      <td>drooping ears</td>\n",
              "      <td>Yes</td>\n",
              "    </tr>\n",
              "    <tr>\n",
              "      <th>834</th>\n",
              "      <td>Deer</td>\n",
              "      <td>wasting</td>\n",
              "      <td>stumbling</td>\n",
              "      <td>listlessness</td>\n",
              "      <td>drooling</td>\n",
              "      <td>drooping ears</td>\n",
              "      <td>Yes</td>\n",
              "    </tr>\n",
              "    <tr>\n",
              "      <th>837</th>\n",
              "      <td>Deer</td>\n",
              "      <td>sudden death</td>\n",
              "      <td>high temperature</td>\n",
              "      <td>difficulty breating</td>\n",
              "      <td>Weight loss</td>\n",
              "      <td>trembling</td>\n",
              "      <td>Yes</td>\n",
              "    </tr>\n",
              "    <tr>\n",
              "      <th>842</th>\n",
              "      <td>Deer</td>\n",
              "      <td>fever</td>\n",
              "      <td>loss of appetite</td>\n",
              "      <td>rapid pulse and heart rates</td>\n",
              "      <td>lameness in affected leg</td>\n",
              "      <td>depression</td>\n",
              "      <td>Yes</td>\n",
              "    </tr>\n",
              "    <tr>\n",
              "      <th>843</th>\n",
              "      <td>Deer</td>\n",
              "      <td>fever</td>\n",
              "      <td>loss of appetite</td>\n",
              "      <td>rapid pulse and heart rates</td>\n",
              "      <td>lameness in affected leg</td>\n",
              "      <td>depression</td>\n",
              "      <td>Yes</td>\n",
              "    </tr>\n",
              "  </tbody>\n",
              "</table>\n",
              "</div>\n",
              "    <div class=\"colab-df-buttons\">\n",
              "\n",
              "  <div class=\"colab-df-container\">\n",
              "    <button class=\"colab-df-convert\" onclick=\"convertToInteractive('df-0faf2fd2-60ba-465e-985f-5c1d49df4052')\"\n",
              "            title=\"Convert this dataframe to an interactive table.\"\n",
              "            style=\"display:none;\">\n",
              "\n",
              "  <svg xmlns=\"http://www.w3.org/2000/svg\" height=\"24px\" viewBox=\"0 -960 960 960\">\n",
              "    <path d=\"M120-120v-720h720v720H120Zm60-500h600v-160H180v160Zm220 220h160v-160H400v160Zm0 220h160v-160H400v160ZM180-400h160v-160H180v160Zm440 0h160v-160H620v160ZM180-180h160v-160H180v160Zm440 0h160v-160H620v160Z\"/>\n",
              "  </svg>\n",
              "    </button>\n",
              "\n",
              "  <style>\n",
              "    .colab-df-container {\n",
              "      display:flex;\n",
              "      gap: 12px;\n",
              "    }\n",
              "\n",
              "    .colab-df-convert {\n",
              "      background-color: #E8F0FE;\n",
              "      border: none;\n",
              "      border-radius: 50%;\n",
              "      cursor: pointer;\n",
              "      display: none;\n",
              "      fill: #1967D2;\n",
              "      height: 32px;\n",
              "      padding: 0 0 0 0;\n",
              "      width: 32px;\n",
              "    }\n",
              "\n",
              "    .colab-df-convert:hover {\n",
              "      background-color: #E2EBFA;\n",
              "      box-shadow: 0px 1px 2px rgba(60, 64, 67, 0.3), 0px 1px 3px 1px rgba(60, 64, 67, 0.15);\n",
              "      fill: #174EA6;\n",
              "    }\n",
              "\n",
              "    .colab-df-buttons div {\n",
              "      margin-bottom: 4px;\n",
              "    }\n",
              "\n",
              "    [theme=dark] .colab-df-convert {\n",
              "      background-color: #3B4455;\n",
              "      fill: #D2E3FC;\n",
              "    }\n",
              "\n",
              "    [theme=dark] .colab-df-convert:hover {\n",
              "      background-color: #434B5C;\n",
              "      box-shadow: 0px 1px 3px 1px rgba(0, 0, 0, 0.15);\n",
              "      filter: drop-shadow(0px 1px 2px rgba(0, 0, 0, 0.3));\n",
              "      fill: #FFFFFF;\n",
              "    }\n",
              "  </style>\n",
              "\n",
              "    <script>\n",
              "      const buttonEl =\n",
              "        document.querySelector('#df-0faf2fd2-60ba-465e-985f-5c1d49df4052 button.colab-df-convert');\n",
              "      buttonEl.style.display =\n",
              "        google.colab.kernel.accessAllowed ? 'block' : 'none';\n",
              "\n",
              "      async function convertToInteractive(key) {\n",
              "        const element = document.querySelector('#df-0faf2fd2-60ba-465e-985f-5c1d49df4052');\n",
              "        const dataTable =\n",
              "          await google.colab.kernel.invokeFunction('convertToInteractive',\n",
              "                                                    [key], {});\n",
              "        if (!dataTable) return;\n",
              "\n",
              "        const docLinkHtml = 'Like what you see? Visit the ' +\n",
              "          '<a target=\"_blank\" href=https://colab.research.google.com/notebooks/data_table.ipynb>data table notebook</a>'\n",
              "          + ' to learn more about interactive tables.';\n",
              "        element.innerHTML = '';\n",
              "        dataTable['output_type'] = 'display_data';\n",
              "        await google.colab.output.renderOutput(dataTable, element);\n",
              "        const docLink = document.createElement('div');\n",
              "        docLink.innerHTML = docLinkHtml;\n",
              "        element.appendChild(docLink);\n",
              "      }\n",
              "    </script>\n",
              "  </div>\n",
              "\n",
              "\n",
              "<div id=\"df-e4651d2b-f080-46ef-948b-cfcc68e66d0c\">\n",
              "  <button class=\"colab-df-quickchart\" onclick=\"quickchart('df-e4651d2b-f080-46ef-948b-cfcc68e66d0c')\"\n",
              "            title=\"Suggest charts\"\n",
              "            style=\"display:none;\">\n",
              "\n",
              "<svg xmlns=\"http://www.w3.org/2000/svg\" height=\"24px\"viewBox=\"0 0 24 24\"\n",
              "     width=\"24px\">\n",
              "    <g>\n",
              "        <path d=\"M19 3H5c-1.1 0-2 .9-2 2v14c0 1.1.9 2 2 2h14c1.1 0 2-.9 2-2V5c0-1.1-.9-2-2-2zM9 17H7v-7h2v7zm4 0h-2V7h2v10zm4 0h-2v-4h2v4z\"/>\n",
              "    </g>\n",
              "</svg>\n",
              "  </button>\n",
              "\n",
              "<style>\n",
              "  .colab-df-quickchart {\n",
              "      --bg-color: #E8F0FE;\n",
              "      --fill-color: #1967D2;\n",
              "      --hover-bg-color: #E2EBFA;\n",
              "      --hover-fill-color: #174EA6;\n",
              "      --disabled-fill-color: #AAA;\n",
              "      --disabled-bg-color: #DDD;\n",
              "  }\n",
              "\n",
              "  [theme=dark] .colab-df-quickchart {\n",
              "      --bg-color: #3B4455;\n",
              "      --fill-color: #D2E3FC;\n",
              "      --hover-bg-color: #434B5C;\n",
              "      --hover-fill-color: #FFFFFF;\n",
              "      --disabled-bg-color: #3B4455;\n",
              "      --disabled-fill-color: #666;\n",
              "  }\n",
              "\n",
              "  .colab-df-quickchart {\n",
              "    background-color: var(--bg-color);\n",
              "    border: none;\n",
              "    border-radius: 50%;\n",
              "    cursor: pointer;\n",
              "    display: none;\n",
              "    fill: var(--fill-color);\n",
              "    height: 32px;\n",
              "    padding: 0;\n",
              "    width: 32px;\n",
              "  }\n",
              "\n",
              "  .colab-df-quickchart:hover {\n",
              "    background-color: var(--hover-bg-color);\n",
              "    box-shadow: 0 1px 2px rgba(60, 64, 67, 0.3), 0 1px 3px 1px rgba(60, 64, 67, 0.15);\n",
              "    fill: var(--button-hover-fill-color);\n",
              "  }\n",
              "\n",
              "  .colab-df-quickchart-complete:disabled,\n",
              "  .colab-df-quickchart-complete:disabled:hover {\n",
              "    background-color: var(--disabled-bg-color);\n",
              "    fill: var(--disabled-fill-color);\n",
              "    box-shadow: none;\n",
              "  }\n",
              "\n",
              "  .colab-df-spinner {\n",
              "    border: 2px solid var(--fill-color);\n",
              "    border-color: transparent;\n",
              "    border-bottom-color: var(--fill-color);\n",
              "    animation:\n",
              "      spin 1s steps(1) infinite;\n",
              "  }\n",
              "\n",
              "  @keyframes spin {\n",
              "    0% {\n",
              "      border-color: transparent;\n",
              "      border-bottom-color: var(--fill-color);\n",
              "      border-left-color: var(--fill-color);\n",
              "    }\n",
              "    20% {\n",
              "      border-color: transparent;\n",
              "      border-left-color: var(--fill-color);\n",
              "      border-top-color: var(--fill-color);\n",
              "    }\n",
              "    30% {\n",
              "      border-color: transparent;\n",
              "      border-left-color: var(--fill-color);\n",
              "      border-top-color: var(--fill-color);\n",
              "      border-right-color: var(--fill-color);\n",
              "    }\n",
              "    40% {\n",
              "      border-color: transparent;\n",
              "      border-right-color: var(--fill-color);\n",
              "      border-top-color: var(--fill-color);\n",
              "    }\n",
              "    60% {\n",
              "      border-color: transparent;\n",
              "      border-right-color: var(--fill-color);\n",
              "    }\n",
              "    80% {\n",
              "      border-color: transparent;\n",
              "      border-right-color: var(--fill-color);\n",
              "      border-bottom-color: var(--fill-color);\n",
              "    }\n",
              "    90% {\n",
              "      border-color: transparent;\n",
              "      border-bottom-color: var(--fill-color);\n",
              "    }\n",
              "  }\n",
              "</style>\n",
              "\n",
              "  <script>\n",
              "    async function quickchart(key) {\n",
              "      const quickchartButtonEl =\n",
              "        document.querySelector('#' + key + ' button');\n",
              "      quickchartButtonEl.disabled = true;  // To prevent multiple clicks.\n",
              "      quickchartButtonEl.classList.add('colab-df-spinner');\n",
              "      try {\n",
              "        const charts = await google.colab.kernel.invokeFunction(\n",
              "            'suggestCharts', [key], {});\n",
              "      } catch (error) {\n",
              "        console.error('Error during call to suggestCharts:', error);\n",
              "      }\n",
              "      quickchartButtonEl.classList.remove('colab-df-spinner');\n",
              "      quickchartButtonEl.classList.add('colab-df-quickchart-complete');\n",
              "    }\n",
              "    (() => {\n",
              "      let quickchartButtonEl =\n",
              "        document.querySelector('#df-e4651d2b-f080-46ef-948b-cfcc68e66d0c button');\n",
              "      quickchartButtonEl.style.display =\n",
              "        google.colab.kernel.accessAllowed ? 'block' : 'none';\n",
              "    })();\n",
              "  </script>\n",
              "</div>\n",
              "    </div>\n",
              "  </div>\n"
            ]
          },
          "metadata": {},
          "execution_count": 10
        }
      ]
    },
    {
      "cell_type": "markdown",
      "source": [
        "Eliminar valores vacíos."
      ],
      "metadata": {
        "id": "wcmYLyohW0kB"
      }
    },
    {
      "cell_type": "code",
      "source": [
        "df.dropna(inplace=True)"
      ],
      "metadata": {
        "id": "Ybdh535SW2dS"
      },
      "execution_count": 11,
      "outputs": []
    },
    {
      "cell_type": "markdown",
      "source": [
        "Preprocesamiento"
      ],
      "metadata": {
        "id": "C_5kFNp1W3Ac"
      }
    },
    {
      "cell_type": "code",
      "source": [
        "from sklearn.preprocessing import LabelEncoder\n",
        "\n",
        "le_AnimalName = LabelEncoder()\n",
        "le_AnimalName.fit(df['AnimalName'])\n",
        "df['AnimalName'] = le_AnimalName.fit_transform(df['AnimalName'])\n",
        "\n",
        "le_symptoms1 = LabelEncoder()\n",
        "le_symptoms1.fit(df['symptoms1'])\n",
        "df['symptoms1'] = le_symptoms1.fit_transform(df['symptoms1'])\n",
        "\n",
        "le_symptoms2 = LabelEncoder()\n",
        "le_symptoms2.fit(df['symptoms2'])\n",
        "df['symptoms2'] = le_symptoms2.fit_transform(df['symptoms2'])\n",
        "\n",
        "le_symptoms3 = LabelEncoder()\n",
        "le_symptoms3.fit(df['symptoms3'])\n",
        "df['symptoms3'] = le_symptoms3.fit_transform(df['symptoms3'])\n",
        "\n",
        "le_symptoms4 = LabelEncoder()\n",
        "le_symptoms4.fit(df['symptoms4'])\n",
        "df['symptoms4'] = le_symptoms4.fit_transform(df['symptoms4'])\n",
        "\n",
        "le_symptoms5 = LabelEncoder()\n",
        "le_symptoms5.fit(df['symptoms5'])\n",
        "df['symptoms5'] = le_symptoms5.fit_transform(df['symptoms5'])\n",
        "\n",
        "le_Dangerous = LabelEncoder()\n",
        "le_Dangerous.fit(df['Dangerous'])\n",
        "df['Dangerous'] = le_Dangerous.fit_transform(df['Dangerous'])"
      ],
      "metadata": {
        "id": "IuP1L9H2XrBv"
      },
      "execution_count": 12,
      "outputs": []
    },
    {
      "cell_type": "markdown",
      "source": [
        "Visualizando las clases de nombre de animal."
      ],
      "metadata": {
        "id": "i5OrHXzy6_3y"
      }
    },
    {
      "cell_type": "code",
      "source": [
        "le_AnimalName.classes_"
      ],
      "metadata": {
        "id": "OOdfTkhaaq4i",
        "colab": {
          "base_uri": "https://localhost:8080/"
        },
        "outputId": "577b9422-c963-4c4f-d3df-a9614f6679b0"
      },
      "execution_count": 13,
      "outputs": [
        {
          "output_type": "execute_result",
          "data": {
            "text/plain": [
              "array(['Birds', 'Black-tailed deer', 'Buffaloes', 'Cattle', 'Chicken',\n",
              "       'Deer', 'Dog', 'Dogs', 'Donkey', 'Duck', 'Elephant', 'Elk', 'Fowl',\n",
              "       'Fox', 'Fox ', 'Goat', 'Goats', 'Hamster', 'Horse', 'Hyaenas',\n",
              "       'Lion', 'Monkey', 'Moos', 'Mule deer', 'Other Birds', 'Pig',\n",
              "       'Pigs', 'Rabbit', 'Reindeer', 'Sheep', 'Sika deer', 'Tiger',\n",
              "       'Turtle', 'Wapiti', 'White-tailed deer', 'Wolves', 'cat', 'cattle',\n",
              "       'chicken', 'cow', 'donkey', 'duck', 'horse', 'mammal', 'mules',\n",
              "       'snake'], dtype=object)"
            ]
          },
          "metadata": {},
          "execution_count": 13
        }
      ]
    },
    {
      "cell_type": "markdown",
      "source": [
        "Visualizando las clases de la variable objetivo."
      ],
      "metadata": {
        "id": "MEQcbwCb7Eq2"
      }
    },
    {
      "cell_type": "code",
      "source": [
        "le_Dangerous.classes_"
      ],
      "metadata": {
        "id": "iOo0G76_apM-",
        "colab": {
          "base_uri": "https://localhost:8080/"
        },
        "outputId": "27714edc-9a11-4d0e-f51e-04438eb827e9"
      },
      "execution_count": 14,
      "outputs": [
        {
          "output_type": "execute_result",
          "data": {
            "text/plain": [
              "array(['No', 'Yes'], dtype=object)"
            ]
          },
          "metadata": {},
          "execution_count": 14
        }
      ]
    },
    {
      "cell_type": "markdown",
      "source": [
        "Visualizando las transformaciones de los enconde de la variable objetivo. El resultado es la glosa asignado para cada valor numérico."
      ],
      "metadata": {
        "id": "QFnTv_tt7L3B"
      }
    },
    {
      "cell_type": "code",
      "source": [
        "le_Dangerous.inverse_transform([0, 1, 0, 1, 1])"
      ],
      "metadata": {
        "id": "_OiJFWfkawUt",
        "colab": {
          "base_uri": "https://localhost:8080/"
        },
        "outputId": "98af5a2e-4e1b-44d6-c748-ca2dad713380"
      },
      "execution_count": 15,
      "outputs": [
        {
          "output_type": "execute_result",
          "data": {
            "text/plain": [
              "array(['No', 'Yes', 'No', 'Yes', 'Yes'], dtype=object)"
            ]
          },
          "metadata": {},
          "execution_count": 15
        }
      ]
    },
    {
      "cell_type": "markdown",
      "source": [
        "Visualizar los tipos de datos que contiene el dataset."
      ],
      "metadata": {
        "id": "d94NONJW7XRl"
      }
    },
    {
      "cell_type": "code",
      "source": [
        "df.dtypes"
      ],
      "metadata": {
        "colab": {
          "base_uri": "https://localhost:8080/"
        },
        "id": "DToFgPCBjzqk",
        "outputId": "80c4fcb0-2200-40ba-d1cf-4aa13dcf2e13"
      },
      "execution_count": 16,
      "outputs": [
        {
          "output_type": "execute_result",
          "data": {
            "text/plain": [
              "AnimalName    int64\n",
              "symptoms1     int64\n",
              "symptoms2     int64\n",
              "symptoms3     int64\n",
              "symptoms4     int64\n",
              "symptoms5     int64\n",
              "Dangerous     int64\n",
              "dtype: object"
            ]
          },
          "metadata": {},
          "execution_count": 16
        }
      ]
    },
    {
      "cell_type": "code",
      "source": [
        "df.head()"
      ],
      "metadata": {
        "colab": {
          "base_uri": "https://localhost:8080/",
          "height": 206
        },
        "id": "2kZFgGKKXyEN",
        "outputId": "437a9029-5b73-411f-fbba-af3d26d7c48e"
      },
      "execution_count": 17,
      "outputs": [
        {
          "output_type": "execute_result",
          "data": {
            "text/plain": [
              "   AnimalName  symptoms1  symptoms2  symptoms3  symptoms4  symptoms5  \\\n",
              "0           6         63         30        179        181         32   \n",
              "1           6         63         30         31        164        113   \n",
              "2           6         63         30         31        172          8   \n",
              "3           6         63         33         31         87        142   \n",
              "4           6         63         30         31         87         21   \n",
              "\n",
              "   Dangerous  \n",
              "0          1  \n",
              "1          1  \n",
              "2          1  \n",
              "3          1  \n",
              "4          1  "
            ],
            "text/html": [
              "\n",
              "  <div id=\"df-d944f6d4-da33-453e-8b72-84131bdbc03d\" class=\"colab-df-container\">\n",
              "    <div>\n",
              "<style scoped>\n",
              "    .dataframe tbody tr th:only-of-type {\n",
              "        vertical-align: middle;\n",
              "    }\n",
              "\n",
              "    .dataframe tbody tr th {\n",
              "        vertical-align: top;\n",
              "    }\n",
              "\n",
              "    .dataframe thead th {\n",
              "        text-align: right;\n",
              "    }\n",
              "</style>\n",
              "<table border=\"1\" class=\"dataframe\">\n",
              "  <thead>\n",
              "    <tr style=\"text-align: right;\">\n",
              "      <th></th>\n",
              "      <th>AnimalName</th>\n",
              "      <th>symptoms1</th>\n",
              "      <th>symptoms2</th>\n",
              "      <th>symptoms3</th>\n",
              "      <th>symptoms4</th>\n",
              "      <th>symptoms5</th>\n",
              "      <th>Dangerous</th>\n",
              "    </tr>\n",
              "  </thead>\n",
              "  <tbody>\n",
              "    <tr>\n",
              "      <th>0</th>\n",
              "      <td>6</td>\n",
              "      <td>63</td>\n",
              "      <td>30</td>\n",
              "      <td>179</td>\n",
              "      <td>181</td>\n",
              "      <td>32</td>\n",
              "      <td>1</td>\n",
              "    </tr>\n",
              "    <tr>\n",
              "      <th>1</th>\n",
              "      <td>6</td>\n",
              "      <td>63</td>\n",
              "      <td>30</td>\n",
              "      <td>31</td>\n",
              "      <td>164</td>\n",
              "      <td>113</td>\n",
              "      <td>1</td>\n",
              "    </tr>\n",
              "    <tr>\n",
              "      <th>2</th>\n",
              "      <td>6</td>\n",
              "      <td>63</td>\n",
              "      <td>30</td>\n",
              "      <td>31</td>\n",
              "      <td>172</td>\n",
              "      <td>8</td>\n",
              "      <td>1</td>\n",
              "    </tr>\n",
              "    <tr>\n",
              "      <th>3</th>\n",
              "      <td>6</td>\n",
              "      <td>63</td>\n",
              "      <td>33</td>\n",
              "      <td>31</td>\n",
              "      <td>87</td>\n",
              "      <td>142</td>\n",
              "      <td>1</td>\n",
              "    </tr>\n",
              "    <tr>\n",
              "      <th>4</th>\n",
              "      <td>6</td>\n",
              "      <td>63</td>\n",
              "      <td>30</td>\n",
              "      <td>31</td>\n",
              "      <td>87</td>\n",
              "      <td>21</td>\n",
              "      <td>1</td>\n",
              "    </tr>\n",
              "  </tbody>\n",
              "</table>\n",
              "</div>\n",
              "    <div class=\"colab-df-buttons\">\n",
              "\n",
              "  <div class=\"colab-df-container\">\n",
              "    <button class=\"colab-df-convert\" onclick=\"convertToInteractive('df-d944f6d4-da33-453e-8b72-84131bdbc03d')\"\n",
              "            title=\"Convert this dataframe to an interactive table.\"\n",
              "            style=\"display:none;\">\n",
              "\n",
              "  <svg xmlns=\"http://www.w3.org/2000/svg\" height=\"24px\" viewBox=\"0 -960 960 960\">\n",
              "    <path d=\"M120-120v-720h720v720H120Zm60-500h600v-160H180v160Zm220 220h160v-160H400v160Zm0 220h160v-160H400v160ZM180-400h160v-160H180v160Zm440 0h160v-160H620v160ZM180-180h160v-160H180v160Zm440 0h160v-160H620v160Z\"/>\n",
              "  </svg>\n",
              "    </button>\n",
              "\n",
              "  <style>\n",
              "    .colab-df-container {\n",
              "      display:flex;\n",
              "      gap: 12px;\n",
              "    }\n",
              "\n",
              "    .colab-df-convert {\n",
              "      background-color: #E8F0FE;\n",
              "      border: none;\n",
              "      border-radius: 50%;\n",
              "      cursor: pointer;\n",
              "      display: none;\n",
              "      fill: #1967D2;\n",
              "      height: 32px;\n",
              "      padding: 0 0 0 0;\n",
              "      width: 32px;\n",
              "    }\n",
              "\n",
              "    .colab-df-convert:hover {\n",
              "      background-color: #E2EBFA;\n",
              "      box-shadow: 0px 1px 2px rgba(60, 64, 67, 0.3), 0px 1px 3px 1px rgba(60, 64, 67, 0.15);\n",
              "      fill: #174EA6;\n",
              "    }\n",
              "\n",
              "    .colab-df-buttons div {\n",
              "      margin-bottom: 4px;\n",
              "    }\n",
              "\n",
              "    [theme=dark] .colab-df-convert {\n",
              "      background-color: #3B4455;\n",
              "      fill: #D2E3FC;\n",
              "    }\n",
              "\n",
              "    [theme=dark] .colab-df-convert:hover {\n",
              "      background-color: #434B5C;\n",
              "      box-shadow: 0px 1px 3px 1px rgba(0, 0, 0, 0.15);\n",
              "      filter: drop-shadow(0px 1px 2px rgba(0, 0, 0, 0.3));\n",
              "      fill: #FFFFFF;\n",
              "    }\n",
              "  </style>\n",
              "\n",
              "    <script>\n",
              "      const buttonEl =\n",
              "        document.querySelector('#df-d944f6d4-da33-453e-8b72-84131bdbc03d button.colab-df-convert');\n",
              "      buttonEl.style.display =\n",
              "        google.colab.kernel.accessAllowed ? 'block' : 'none';\n",
              "\n",
              "      async function convertToInteractive(key) {\n",
              "        const element = document.querySelector('#df-d944f6d4-da33-453e-8b72-84131bdbc03d');\n",
              "        const dataTable =\n",
              "          await google.colab.kernel.invokeFunction('convertToInteractive',\n",
              "                                                    [key], {});\n",
              "        if (!dataTable) return;\n",
              "\n",
              "        const docLinkHtml = 'Like what you see? Visit the ' +\n",
              "          '<a target=\"_blank\" href=https://colab.research.google.com/notebooks/data_table.ipynb>data table notebook</a>'\n",
              "          + ' to learn more about interactive tables.';\n",
              "        element.innerHTML = '';\n",
              "        dataTable['output_type'] = 'display_data';\n",
              "        await google.colab.output.renderOutput(dataTable, element);\n",
              "        const docLink = document.createElement('div');\n",
              "        docLink.innerHTML = docLinkHtml;\n",
              "        element.appendChild(docLink);\n",
              "      }\n",
              "    </script>\n",
              "  </div>\n",
              "\n",
              "\n",
              "<div id=\"df-65821920-7a4a-4e8c-80c6-37823a47d7e8\">\n",
              "  <button class=\"colab-df-quickchart\" onclick=\"quickchart('df-65821920-7a4a-4e8c-80c6-37823a47d7e8')\"\n",
              "            title=\"Suggest charts\"\n",
              "            style=\"display:none;\">\n",
              "\n",
              "<svg xmlns=\"http://www.w3.org/2000/svg\" height=\"24px\"viewBox=\"0 0 24 24\"\n",
              "     width=\"24px\">\n",
              "    <g>\n",
              "        <path d=\"M19 3H5c-1.1 0-2 .9-2 2v14c0 1.1.9 2 2 2h14c1.1 0 2-.9 2-2V5c0-1.1-.9-2-2-2zM9 17H7v-7h2v7zm4 0h-2V7h2v10zm4 0h-2v-4h2v4z\"/>\n",
              "    </g>\n",
              "</svg>\n",
              "  </button>\n",
              "\n",
              "<style>\n",
              "  .colab-df-quickchart {\n",
              "      --bg-color: #E8F0FE;\n",
              "      --fill-color: #1967D2;\n",
              "      --hover-bg-color: #E2EBFA;\n",
              "      --hover-fill-color: #174EA6;\n",
              "      --disabled-fill-color: #AAA;\n",
              "      --disabled-bg-color: #DDD;\n",
              "  }\n",
              "\n",
              "  [theme=dark] .colab-df-quickchart {\n",
              "      --bg-color: #3B4455;\n",
              "      --fill-color: #D2E3FC;\n",
              "      --hover-bg-color: #434B5C;\n",
              "      --hover-fill-color: #FFFFFF;\n",
              "      --disabled-bg-color: #3B4455;\n",
              "      --disabled-fill-color: #666;\n",
              "  }\n",
              "\n",
              "  .colab-df-quickchart {\n",
              "    background-color: var(--bg-color);\n",
              "    border: none;\n",
              "    border-radius: 50%;\n",
              "    cursor: pointer;\n",
              "    display: none;\n",
              "    fill: var(--fill-color);\n",
              "    height: 32px;\n",
              "    padding: 0;\n",
              "    width: 32px;\n",
              "  }\n",
              "\n",
              "  .colab-df-quickchart:hover {\n",
              "    background-color: var(--hover-bg-color);\n",
              "    box-shadow: 0 1px 2px rgba(60, 64, 67, 0.3), 0 1px 3px 1px rgba(60, 64, 67, 0.15);\n",
              "    fill: var(--button-hover-fill-color);\n",
              "  }\n",
              "\n",
              "  .colab-df-quickchart-complete:disabled,\n",
              "  .colab-df-quickchart-complete:disabled:hover {\n",
              "    background-color: var(--disabled-bg-color);\n",
              "    fill: var(--disabled-fill-color);\n",
              "    box-shadow: none;\n",
              "  }\n",
              "\n",
              "  .colab-df-spinner {\n",
              "    border: 2px solid var(--fill-color);\n",
              "    border-color: transparent;\n",
              "    border-bottom-color: var(--fill-color);\n",
              "    animation:\n",
              "      spin 1s steps(1) infinite;\n",
              "  }\n",
              "\n",
              "  @keyframes spin {\n",
              "    0% {\n",
              "      border-color: transparent;\n",
              "      border-bottom-color: var(--fill-color);\n",
              "      border-left-color: var(--fill-color);\n",
              "    }\n",
              "    20% {\n",
              "      border-color: transparent;\n",
              "      border-left-color: var(--fill-color);\n",
              "      border-top-color: var(--fill-color);\n",
              "    }\n",
              "    30% {\n",
              "      border-color: transparent;\n",
              "      border-left-color: var(--fill-color);\n",
              "      border-top-color: var(--fill-color);\n",
              "      border-right-color: var(--fill-color);\n",
              "    }\n",
              "    40% {\n",
              "      border-color: transparent;\n",
              "      border-right-color: var(--fill-color);\n",
              "      border-top-color: var(--fill-color);\n",
              "    }\n",
              "    60% {\n",
              "      border-color: transparent;\n",
              "      border-right-color: var(--fill-color);\n",
              "    }\n",
              "    80% {\n",
              "      border-color: transparent;\n",
              "      border-right-color: var(--fill-color);\n",
              "      border-bottom-color: var(--fill-color);\n",
              "    }\n",
              "    90% {\n",
              "      border-color: transparent;\n",
              "      border-bottom-color: var(--fill-color);\n",
              "    }\n",
              "  }\n",
              "</style>\n",
              "\n",
              "  <script>\n",
              "    async function quickchart(key) {\n",
              "      const quickchartButtonEl =\n",
              "        document.querySelector('#' + key + ' button');\n",
              "      quickchartButtonEl.disabled = true;  // To prevent multiple clicks.\n",
              "      quickchartButtonEl.classList.add('colab-df-spinner');\n",
              "      try {\n",
              "        const charts = await google.colab.kernel.invokeFunction(\n",
              "            'suggestCharts', [key], {});\n",
              "      } catch (error) {\n",
              "        console.error('Error during call to suggestCharts:', error);\n",
              "      }\n",
              "      quickchartButtonEl.classList.remove('colab-df-spinner');\n",
              "      quickchartButtonEl.classList.add('colab-df-quickchart-complete');\n",
              "    }\n",
              "    (() => {\n",
              "      let quickchartButtonEl =\n",
              "        document.querySelector('#df-65821920-7a4a-4e8c-80c6-37823a47d7e8 button');\n",
              "      quickchartButtonEl.style.display =\n",
              "        google.colab.kernel.accessAllowed ? 'block' : 'none';\n",
              "    })();\n",
              "  </script>\n",
              "</div>\n",
              "    </div>\n",
              "  </div>\n"
            ]
          },
          "metadata": {},
          "execution_count": 17
        }
      ]
    },
    {
      "cell_type": "code",
      "source": [
        "dataset = df.copy()"
      ],
      "metadata": {
        "id": "YUE_H7VXWpjc"
      },
      "execution_count": 18,
      "outputs": []
    },
    {
      "cell_type": "markdown",
      "source": [
        "Visualizar los estadísticos del dataset."
      ],
      "metadata": {
        "id": "W8ezDgnY7dCI"
      }
    },
    {
      "cell_type": "code",
      "source": [
        "dataset.describe(include='all')"
      ],
      "metadata": {
        "colab": {
          "base_uri": "https://localhost:8080/",
          "height": 301
        },
        "id": "uiB3HIq3YvwV",
        "outputId": "3ae06ef0-b5fa-484c-9016-10ffba9b3f73"
      },
      "execution_count": 19,
      "outputs": [
        {
          "output_type": "execute_result",
          "data": {
            "text/plain": [
              "       AnimalName   symptoms1   symptoms2   symptoms3   symptoms4   symptoms5  \\\n",
              "count  869.000000  869.000000  869.000000  869.000000  869.000000  869.000000   \n",
              "mean    14.994246  106.434983  102.329114  113.966628  109.837745  101.197929   \n",
              "std     11.456438   64.679710   69.830505   69.045851   65.072771   56.265643   \n",
              "min      0.000000    0.000000    0.000000    0.000000    0.000000    0.000000   \n",
              "25%      5.000000   63.000000   30.000000   40.000000   42.000000   55.000000   \n",
              "50%     12.000000   69.000000   94.000000  110.000000  107.000000  110.000000   \n",
              "75%     25.000000  166.000000  168.000000  179.000000  180.000000  142.000000   \n",
              "max     45.000000  230.000000  228.000000  228.000000  215.000000  201.000000   \n",
              "\n",
              "        Dangerous  \n",
              "count  869.000000  \n",
              "mean     0.976985  \n",
              "std      0.150037  \n",
              "min      0.000000  \n",
              "25%      1.000000  \n",
              "50%      1.000000  \n",
              "75%      1.000000  \n",
              "max      1.000000  "
            ],
            "text/html": [
              "\n",
              "  <div id=\"df-9fe92b09-6209-4d7f-b57e-d46f2189655a\" class=\"colab-df-container\">\n",
              "    <div>\n",
              "<style scoped>\n",
              "    .dataframe tbody tr th:only-of-type {\n",
              "        vertical-align: middle;\n",
              "    }\n",
              "\n",
              "    .dataframe tbody tr th {\n",
              "        vertical-align: top;\n",
              "    }\n",
              "\n",
              "    .dataframe thead th {\n",
              "        text-align: right;\n",
              "    }\n",
              "</style>\n",
              "<table border=\"1\" class=\"dataframe\">\n",
              "  <thead>\n",
              "    <tr style=\"text-align: right;\">\n",
              "      <th></th>\n",
              "      <th>AnimalName</th>\n",
              "      <th>symptoms1</th>\n",
              "      <th>symptoms2</th>\n",
              "      <th>symptoms3</th>\n",
              "      <th>symptoms4</th>\n",
              "      <th>symptoms5</th>\n",
              "      <th>Dangerous</th>\n",
              "    </tr>\n",
              "  </thead>\n",
              "  <tbody>\n",
              "    <tr>\n",
              "      <th>count</th>\n",
              "      <td>869.000000</td>\n",
              "      <td>869.000000</td>\n",
              "      <td>869.000000</td>\n",
              "      <td>869.000000</td>\n",
              "      <td>869.000000</td>\n",
              "      <td>869.000000</td>\n",
              "      <td>869.000000</td>\n",
              "    </tr>\n",
              "    <tr>\n",
              "      <th>mean</th>\n",
              "      <td>14.994246</td>\n",
              "      <td>106.434983</td>\n",
              "      <td>102.329114</td>\n",
              "      <td>113.966628</td>\n",
              "      <td>109.837745</td>\n",
              "      <td>101.197929</td>\n",
              "      <td>0.976985</td>\n",
              "    </tr>\n",
              "    <tr>\n",
              "      <th>std</th>\n",
              "      <td>11.456438</td>\n",
              "      <td>64.679710</td>\n",
              "      <td>69.830505</td>\n",
              "      <td>69.045851</td>\n",
              "      <td>65.072771</td>\n",
              "      <td>56.265643</td>\n",
              "      <td>0.150037</td>\n",
              "    </tr>\n",
              "    <tr>\n",
              "      <th>min</th>\n",
              "      <td>0.000000</td>\n",
              "      <td>0.000000</td>\n",
              "      <td>0.000000</td>\n",
              "      <td>0.000000</td>\n",
              "      <td>0.000000</td>\n",
              "      <td>0.000000</td>\n",
              "      <td>0.000000</td>\n",
              "    </tr>\n",
              "    <tr>\n",
              "      <th>25%</th>\n",
              "      <td>5.000000</td>\n",
              "      <td>63.000000</td>\n",
              "      <td>30.000000</td>\n",
              "      <td>40.000000</td>\n",
              "      <td>42.000000</td>\n",
              "      <td>55.000000</td>\n",
              "      <td>1.000000</td>\n",
              "    </tr>\n",
              "    <tr>\n",
              "      <th>50%</th>\n",
              "      <td>12.000000</td>\n",
              "      <td>69.000000</td>\n",
              "      <td>94.000000</td>\n",
              "      <td>110.000000</td>\n",
              "      <td>107.000000</td>\n",
              "      <td>110.000000</td>\n",
              "      <td>1.000000</td>\n",
              "    </tr>\n",
              "    <tr>\n",
              "      <th>75%</th>\n",
              "      <td>25.000000</td>\n",
              "      <td>166.000000</td>\n",
              "      <td>168.000000</td>\n",
              "      <td>179.000000</td>\n",
              "      <td>180.000000</td>\n",
              "      <td>142.000000</td>\n",
              "      <td>1.000000</td>\n",
              "    </tr>\n",
              "    <tr>\n",
              "      <th>max</th>\n",
              "      <td>45.000000</td>\n",
              "      <td>230.000000</td>\n",
              "      <td>228.000000</td>\n",
              "      <td>228.000000</td>\n",
              "      <td>215.000000</td>\n",
              "      <td>201.000000</td>\n",
              "      <td>1.000000</td>\n",
              "    </tr>\n",
              "  </tbody>\n",
              "</table>\n",
              "</div>\n",
              "    <div class=\"colab-df-buttons\">\n",
              "\n",
              "  <div class=\"colab-df-container\">\n",
              "    <button class=\"colab-df-convert\" onclick=\"convertToInteractive('df-9fe92b09-6209-4d7f-b57e-d46f2189655a')\"\n",
              "            title=\"Convert this dataframe to an interactive table.\"\n",
              "            style=\"display:none;\">\n",
              "\n",
              "  <svg xmlns=\"http://www.w3.org/2000/svg\" height=\"24px\" viewBox=\"0 -960 960 960\">\n",
              "    <path d=\"M120-120v-720h720v720H120Zm60-500h600v-160H180v160Zm220 220h160v-160H400v160Zm0 220h160v-160H400v160ZM180-400h160v-160H180v160Zm440 0h160v-160H620v160ZM180-180h160v-160H180v160Zm440 0h160v-160H620v160Z\"/>\n",
              "  </svg>\n",
              "    </button>\n",
              "\n",
              "  <style>\n",
              "    .colab-df-container {\n",
              "      display:flex;\n",
              "      gap: 12px;\n",
              "    }\n",
              "\n",
              "    .colab-df-convert {\n",
              "      background-color: #E8F0FE;\n",
              "      border: none;\n",
              "      border-radius: 50%;\n",
              "      cursor: pointer;\n",
              "      display: none;\n",
              "      fill: #1967D2;\n",
              "      height: 32px;\n",
              "      padding: 0 0 0 0;\n",
              "      width: 32px;\n",
              "    }\n",
              "\n",
              "    .colab-df-convert:hover {\n",
              "      background-color: #E2EBFA;\n",
              "      box-shadow: 0px 1px 2px rgba(60, 64, 67, 0.3), 0px 1px 3px 1px rgba(60, 64, 67, 0.15);\n",
              "      fill: #174EA6;\n",
              "    }\n",
              "\n",
              "    .colab-df-buttons div {\n",
              "      margin-bottom: 4px;\n",
              "    }\n",
              "\n",
              "    [theme=dark] .colab-df-convert {\n",
              "      background-color: #3B4455;\n",
              "      fill: #D2E3FC;\n",
              "    }\n",
              "\n",
              "    [theme=dark] .colab-df-convert:hover {\n",
              "      background-color: #434B5C;\n",
              "      box-shadow: 0px 1px 3px 1px rgba(0, 0, 0, 0.15);\n",
              "      filter: drop-shadow(0px 1px 2px rgba(0, 0, 0, 0.3));\n",
              "      fill: #FFFFFF;\n",
              "    }\n",
              "  </style>\n",
              "\n",
              "    <script>\n",
              "      const buttonEl =\n",
              "        document.querySelector('#df-9fe92b09-6209-4d7f-b57e-d46f2189655a button.colab-df-convert');\n",
              "      buttonEl.style.display =\n",
              "        google.colab.kernel.accessAllowed ? 'block' : 'none';\n",
              "\n",
              "      async function convertToInteractive(key) {\n",
              "        const element = document.querySelector('#df-9fe92b09-6209-4d7f-b57e-d46f2189655a');\n",
              "        const dataTable =\n",
              "          await google.colab.kernel.invokeFunction('convertToInteractive',\n",
              "                                                    [key], {});\n",
              "        if (!dataTable) return;\n",
              "\n",
              "        const docLinkHtml = 'Like what you see? Visit the ' +\n",
              "          '<a target=\"_blank\" href=https://colab.research.google.com/notebooks/data_table.ipynb>data table notebook</a>'\n",
              "          + ' to learn more about interactive tables.';\n",
              "        element.innerHTML = '';\n",
              "        dataTable['output_type'] = 'display_data';\n",
              "        await google.colab.output.renderOutput(dataTable, element);\n",
              "        const docLink = document.createElement('div');\n",
              "        docLink.innerHTML = docLinkHtml;\n",
              "        element.appendChild(docLink);\n",
              "      }\n",
              "    </script>\n",
              "  </div>\n",
              "\n",
              "\n",
              "<div id=\"df-cc0969cf-0fa5-4b14-8169-d80be3b0d1ad\">\n",
              "  <button class=\"colab-df-quickchart\" onclick=\"quickchart('df-cc0969cf-0fa5-4b14-8169-d80be3b0d1ad')\"\n",
              "            title=\"Suggest charts\"\n",
              "            style=\"display:none;\">\n",
              "\n",
              "<svg xmlns=\"http://www.w3.org/2000/svg\" height=\"24px\"viewBox=\"0 0 24 24\"\n",
              "     width=\"24px\">\n",
              "    <g>\n",
              "        <path d=\"M19 3H5c-1.1 0-2 .9-2 2v14c0 1.1.9 2 2 2h14c1.1 0 2-.9 2-2V5c0-1.1-.9-2-2-2zM9 17H7v-7h2v7zm4 0h-2V7h2v10zm4 0h-2v-4h2v4z\"/>\n",
              "    </g>\n",
              "</svg>\n",
              "  </button>\n",
              "\n",
              "<style>\n",
              "  .colab-df-quickchart {\n",
              "      --bg-color: #E8F0FE;\n",
              "      --fill-color: #1967D2;\n",
              "      --hover-bg-color: #E2EBFA;\n",
              "      --hover-fill-color: #174EA6;\n",
              "      --disabled-fill-color: #AAA;\n",
              "      --disabled-bg-color: #DDD;\n",
              "  }\n",
              "\n",
              "  [theme=dark] .colab-df-quickchart {\n",
              "      --bg-color: #3B4455;\n",
              "      --fill-color: #D2E3FC;\n",
              "      --hover-bg-color: #434B5C;\n",
              "      --hover-fill-color: #FFFFFF;\n",
              "      --disabled-bg-color: #3B4455;\n",
              "      --disabled-fill-color: #666;\n",
              "  }\n",
              "\n",
              "  .colab-df-quickchart {\n",
              "    background-color: var(--bg-color);\n",
              "    border: none;\n",
              "    border-radius: 50%;\n",
              "    cursor: pointer;\n",
              "    display: none;\n",
              "    fill: var(--fill-color);\n",
              "    height: 32px;\n",
              "    padding: 0;\n",
              "    width: 32px;\n",
              "  }\n",
              "\n",
              "  .colab-df-quickchart:hover {\n",
              "    background-color: var(--hover-bg-color);\n",
              "    box-shadow: 0 1px 2px rgba(60, 64, 67, 0.3), 0 1px 3px 1px rgba(60, 64, 67, 0.15);\n",
              "    fill: var(--button-hover-fill-color);\n",
              "  }\n",
              "\n",
              "  .colab-df-quickchart-complete:disabled,\n",
              "  .colab-df-quickchart-complete:disabled:hover {\n",
              "    background-color: var(--disabled-bg-color);\n",
              "    fill: var(--disabled-fill-color);\n",
              "    box-shadow: none;\n",
              "  }\n",
              "\n",
              "  .colab-df-spinner {\n",
              "    border: 2px solid var(--fill-color);\n",
              "    border-color: transparent;\n",
              "    border-bottom-color: var(--fill-color);\n",
              "    animation:\n",
              "      spin 1s steps(1) infinite;\n",
              "  }\n",
              "\n",
              "  @keyframes spin {\n",
              "    0% {\n",
              "      border-color: transparent;\n",
              "      border-bottom-color: var(--fill-color);\n",
              "      border-left-color: var(--fill-color);\n",
              "    }\n",
              "    20% {\n",
              "      border-color: transparent;\n",
              "      border-left-color: var(--fill-color);\n",
              "      border-top-color: var(--fill-color);\n",
              "    }\n",
              "    30% {\n",
              "      border-color: transparent;\n",
              "      border-left-color: var(--fill-color);\n",
              "      border-top-color: var(--fill-color);\n",
              "      border-right-color: var(--fill-color);\n",
              "    }\n",
              "    40% {\n",
              "      border-color: transparent;\n",
              "      border-right-color: var(--fill-color);\n",
              "      border-top-color: var(--fill-color);\n",
              "    }\n",
              "    60% {\n",
              "      border-color: transparent;\n",
              "      border-right-color: var(--fill-color);\n",
              "    }\n",
              "    80% {\n",
              "      border-color: transparent;\n",
              "      border-right-color: var(--fill-color);\n",
              "      border-bottom-color: var(--fill-color);\n",
              "    }\n",
              "    90% {\n",
              "      border-color: transparent;\n",
              "      border-bottom-color: var(--fill-color);\n",
              "    }\n",
              "  }\n",
              "</style>\n",
              "\n",
              "  <script>\n",
              "    async function quickchart(key) {\n",
              "      const quickchartButtonEl =\n",
              "        document.querySelector('#' + key + ' button');\n",
              "      quickchartButtonEl.disabled = true;  // To prevent multiple clicks.\n",
              "      quickchartButtonEl.classList.add('colab-df-spinner');\n",
              "      try {\n",
              "        const charts = await google.colab.kernel.invokeFunction(\n",
              "            'suggestCharts', [key], {});\n",
              "      } catch (error) {\n",
              "        console.error('Error during call to suggestCharts:', error);\n",
              "      }\n",
              "      quickchartButtonEl.classList.remove('colab-df-spinner');\n",
              "      quickchartButtonEl.classList.add('colab-df-quickchart-complete');\n",
              "    }\n",
              "    (() => {\n",
              "      let quickchartButtonEl =\n",
              "        document.querySelector('#df-cc0969cf-0fa5-4b14-8169-d80be3b0d1ad button');\n",
              "      quickchartButtonEl.style.display =\n",
              "        google.colab.kernel.accessAllowed ? 'block' : 'none';\n",
              "    })();\n",
              "  </script>\n",
              "</div>\n",
              "    </div>\n",
              "  </div>\n"
            ]
          },
          "metadata": {},
          "execution_count": 19
        }
      ]
    },
    {
      "cell_type": "code",
      "source": [
        "dataset[\"Dangerous\"].unique()"
      ],
      "metadata": {
        "colab": {
          "base_uri": "https://localhost:8080/"
        },
        "id": "Sb_xS3NpZDbz",
        "outputId": "a4b4fe57-9640-490f-d37d-119a39fdf374"
      },
      "execution_count": 20,
      "outputs": [
        {
          "output_type": "execute_result",
          "data": {
            "text/plain": [
              "array([1, 0])"
            ]
          },
          "metadata": {},
          "execution_count": 20
        }
      ]
    },
    {
      "cell_type": "code",
      "source": [
        "dataset.dtypes"
      ],
      "metadata": {
        "colab": {
          "base_uri": "https://localhost:8080/"
        },
        "id": "YqpbzIsLlr9z",
        "outputId": "8d41fc7c-1184-48f1-af29-4732825a92bf"
      },
      "execution_count": 21,
      "outputs": [
        {
          "output_type": "execute_result",
          "data": {
            "text/plain": [
              "AnimalName    int64\n",
              "symptoms1     int64\n",
              "symptoms2     int64\n",
              "symptoms3     int64\n",
              "symptoms4     int64\n",
              "symptoms5     int64\n",
              "Dangerous     int64\n",
              "dtype: object"
            ]
          },
          "metadata": {},
          "execution_count": 21
        }
      ]
    },
    {
      "cell_type": "code",
      "source": [
        "X, y = dataset.drop('Dangerous', axis=1), dataset[['Dangerous']]"
      ],
      "metadata": {
        "id": "WogGY2qkYbN5"
      },
      "execution_count": 22,
      "outputs": []
    },
    {
      "cell_type": "code",
      "source": [
        "y.dtypes"
      ],
      "metadata": {
        "colab": {
          "base_uri": "https://localhost:8080/"
        },
        "id": "-g08dbUVAgbx",
        "outputId": "6cc2f0ed-6a73-4290-eaf9-7a111c29ac38"
      },
      "execution_count": 23,
      "outputs": [
        {
          "output_type": "execute_result",
          "data": {
            "text/plain": [
              "Dangerous    int64\n",
              "dtype: object"
            ]
          },
          "metadata": {},
          "execution_count": 23
        }
      ]
    },
    {
      "cell_type": "markdown",
      "source": [
        "## Prueba 1: Split de la data"
      ],
      "metadata": {
        "id": "rWNsDSRAezS9"
      }
    },
    {
      "cell_type": "code",
      "source": [
        "#Splitting the data into training and test sets\n",
        "X_train, X_test, y_train, y_test = train_test_split(X, y, test_size=0.2, random_state=42)\n",
        "\n",
        "#Creating an XGBoost classifier\n",
        "model = xgb.XGBClassifier(\n",
        "    objective='binary:logistic',\n",
        "    enable_categorical=True\n",
        ")\n",
        "\n",
        "#Training the model on the training data\n",
        "model.fit(X_train, y_train)\n",
        "\n",
        "#Making predictions on the test set\n",
        "predictions = model.predict(X_test)\n",
        "\n",
        "#Calculating accuracy\n",
        "accuracy = accuracy_score(y_test, predictions)\n",
        "\n",
        "print(\"Accuracy:\", accuracy)\n",
        "print(\"\\nClassification Report:\")\n",
        "print(classification_report(y_test, predictions, target_names=le_Dangerous.classes_))"
      ],
      "metadata": {
        "colab": {
          "base_uri": "https://localhost:8080/"
        },
        "id": "rtuYVlPZb9H2",
        "outputId": "e7bb8315-a25b-4afb-fc88-f710e3f6d1e5"
      },
      "execution_count": 24,
      "outputs": [
        {
          "output_type": "stream",
          "name": "stdout",
          "text": [
            "Accuracy: 0.9712643678160919\n",
            "\n",
            "Classification Report:\n",
            "              precision    recall  f1-score   support\n",
            "\n",
            "          No       0.00      0.00      0.00         2\n",
            "         Yes       0.99      0.98      0.99       172\n",
            "\n",
            "    accuracy                           0.97       174\n",
            "   macro avg       0.49      0.49      0.49       174\n",
            "weighted avg       0.98      0.97      0.97       174\n",
            "\n"
          ]
        }
      ]
    },
    {
      "cell_type": "code",
      "source": [
        "# Crear subgráficos\n",
        "fig, axes = plt.subplots(1, 2, figsize=(10, 4))  # 1 fila, 2 columnas\n",
        "\n",
        "# Graficar datos de entrenamiento\n",
        "axes[0].hist(y_train, bins=30, color='blue', edgecolor='black')\n",
        "axes[0].set_title('Gráfico de dispersión de datos de entrenamiento')\n",
        "axes[0].set_xlabel('Eje X')\n",
        "axes[0].set_ylabel('Eje Y')\n",
        "\n",
        "# Graficar datos de prueba\n",
        "axes[1].hist(y_test, bins=30, color='blue', edgecolor='black')\n",
        "axes[1].set_title('Gráfico de dispersión de datos de prueba')\n",
        "axes[1].set_xlabel('Eje X')\n",
        "axes[1].set_ylabel('Eje Y')\n",
        "\n",
        "# Ajustar diseño y mostrar el gráfico\n",
        "plt.tight_layout()\n",
        "plt.show()"
      ],
      "metadata": {
        "colab": {
          "base_uri": "https://localhost:8080/",
          "height": 407
        },
        "id": "4ckJKulyct5g",
        "outputId": "18dfcc78-1f9b-433f-dbae-314c2d8e70fe"
      },
      "execution_count": 25,
      "outputs": [
        {
          "output_type": "display_data",
          "data": {
            "text/plain": [
              "<Figure size 1000x400 with 2 Axes>"
            ],
            "image/png": "[encoded data removed]"
          },
          "metadata": {}
        }
      ]
    },
    {
      "cell_type": "code",
      "source": [
        "# Contar la cantidad de veces que se repiten los valores únicos\n",
        "conteo_valores = y_train.value_counts()\n",
        "\n",
        "# Mostrar el resultado\n",
        "print(conteo_valores)\n",
        "\n",
        "# Contar la cantidad de veces que se repiten los valores únicos\n",
        "conteo_valores = y_test.value_counts()\n",
        "\n",
        "# Mostrar el resultado\n",
        "print(conteo_valores)"
      ],
      "metadata": {
        "colab": {
          "base_uri": "https://localhost:8080/"
        },
        "id": "bMEJSt0EeMix",
        "outputId": "0101ec9e-a5ab-47cc-e04a-a155a575c127"
      },
      "execution_count": 26,
      "outputs": [
        {
          "output_type": "stream",
          "name": "stdout",
          "text": [
            "Dangerous\n",
            "1            677\n",
            "0             18\n",
            "dtype: int64\n",
            "Dangerous\n",
            "1            172\n",
            "0              2\n",
            "dtype: int64\n"
          ]
        }
      ]
    },
    {
      "cell_type": "markdown",
      "source": [
        "## Prueba 2: Split de la data utilizando `stratify` para distribución homogenea de la variable objetivo."
      ],
      "metadata": {
        "id": "ggSFT5zxe6gc"
      }
    },
    {
      "cell_type": "code",
      "source": [
        "#Splitting the data into training and test sets\n",
        "X_train, X_test, y_train, y_test = train_test_split(X, y, test_size=0.2, random_state=42, stratify=y)\n",
        "\n",
        "#Creating an XGBoost classifier\n",
        "model = xgb.XGBClassifier()\n",
        "\n",
        "#Training the model on the training data\n",
        "model.fit(X_train, y_train)\n",
        "\n",
        "#Making predictions on the test set\n",
        "predictions = model.predict(X_test)\n",
        "\n",
        "#Calculating accuracy\n",
        "accuracy = accuracy_score(y_test, predictions)\n",
        "\n",
        "print(\"Accuracy:\", accuracy)\n",
        "print(\"\\nClassification Report:\")\n",
        "print(classification_report(y_test, predictions, target_names=le_Dangerous.classes_))"
      ],
      "metadata": {
        "colab": {
          "base_uri": "https://localhost:8080/"
        },
        "id": "mufMiNWyUrp0",
        "outputId": "f08f1376-2074-451f-b65f-83ae4cf2fdc0"
      },
      "execution_count": 27,
      "outputs": [
        {
          "output_type": "stream",
          "name": "stdout",
          "text": [
            "Accuracy: 0.9942528735632183\n",
            "\n",
            "Classification Report:\n",
            "              precision    recall  f1-score   support\n",
            "\n",
            "          No       1.00      0.75      0.86         4\n",
            "         Yes       0.99      1.00      1.00       170\n",
            "\n",
            "    accuracy                           0.99       174\n",
            "   macro avg       1.00      0.88      0.93       174\n",
            "weighted avg       0.99      0.99      0.99       174\n",
            "\n"
          ]
        }
      ]
    },
    {
      "cell_type": "markdown",
      "source": [
        "El informe de clasificación proporciona métricas detalladas sobre el rendimiento de un modelo de clasificación en diferentes clases. Aquí hay una interpretación de cada métrica:\n",
        "\n",
        "**Precision (Precisión):**\n",
        "\n",
        "  - Precision para la clase 'No' (No): 1.00 (100%)\n",
        "\n",
        "    Esto significa que, de todas las instancias que el modelo predijo como 'No', el 100% eran realmente 'No'.\n",
        "\n",
        "  - Precision para la clase 'Yes' (Sí): 0.99 (99%)\n",
        "    \n",
        "    Esto significa que, de todas las instancias que el modelo predijo como 'Yes', el 99% eran realmente 'Yes'.\n",
        "\n",
        "**Recall (Recuperación o Sensibilidad):**\n",
        "\n",
        "  - Recall para la clase 'No' (No): 0.75 (75%)\n",
        "    \n",
        "    Esto significa que el modelo identificó correctamente el 75% de todas las instancias reales 'No'.\n",
        "  - Recall para la clase 'Yes' (Sí): 1.00 (100%)\n",
        "    \n",
        "    Esto significa que el modelo identificó correctamente el 100% de todas las instancias reales 'Yes'.\n",
        "\n",
        "**F1-Score (Puntuación F1):**\n",
        "\n",
        "  - F1-Score para la clase 'No' (No): 0.86\n",
        "\n",
        "    Es una medida de precisión y recall, donde 1.0 es la mejor puntuación posible.\n",
        "\n",
        "  - F1-Score para la clase 'Yes' (Sí): 1.00\n",
        "  \n",
        "    Indica un equilibrio entre precision y recall.\n",
        "\n",
        "**Support (Soporte):**\n",
        "\n",
        "Es el número real de ocurrencias de las clases en los datos de prueba.\n",
        "\n",
        "- Soporte para la clase 'No': 4\n",
        "\n",
        "- Soporte para la clase 'Yes': 170\n",
        "\n",
        "**Accuracy (Exactitud):**\n",
        "\n",
        "La exactitud general del modelo en todas las clases.\n",
        "\n",
        "Accuracy: 0.99 (99%)\n",
        "\n",
        "El modelo clasificó correctamente el 99% de todas las instancias."
      ],
      "metadata": {
        "id": "p63xNQQQiZIT"
      }
    },
    {
      "cell_type": "code",
      "source": [
        "# Crear subgráficos\n",
        "fig, axes = plt.subplots(1, 2, figsize=(10, 4))  # 1 fila, 2 columnas\n",
        "\n",
        "# Graficar datos de entrenamiento\n",
        "axes[0].hist(y_train, bins=30, color='blue', edgecolor='black')\n",
        "axes[0].set_title('Gráfico de dispersión de datos de entrenamiento')\n",
        "axes[0].set_xlabel('Eje X')\n",
        "axes[0].set_ylabel('Eje Y')\n",
        "\n",
        "# Graficar datos de prueba\n",
        "axes[1].hist(y_test, bins=30, color='blue', edgecolor='black')\n",
        "axes[1].set_title('Gráfico de dispersión de datos de prueba')\n",
        "axes[1].set_xlabel('Eje X')\n",
        "axes[1].set_ylabel('Eje Y')\n",
        "\n",
        "# Ajustar diseño y mostrar el gráfico\n",
        "plt.tight_layout()\n",
        "plt.show()"
      ],
      "metadata": {
        "colab": {
          "base_uri": "https://localhost:8080/",
          "height": 407
        },
        "id": "tfnhpeqlc_hk",
        "outputId": "1cada1a5-4026-4b6f-a1eb-9044bb26aaae"
      },
      "execution_count": 28,
      "outputs": [
        {
          "output_type": "display_data",
          "data": {
            "text/plain": [
              "<Figure size 1000x400 with 2 Axes>"
            ],
            "image/png": "[encoded data removed]"
          },
          "metadata": {}
        }
      ]
    },
    {
      "cell_type": "code",
      "source": [
        "# Contar la cantidad de veces que se repiten los valores únicos\n",
        "conteo_valores = y_train.value_counts()\n",
        "\n",
        "# Mostrar el resultado\n",
        "print(conteo_valores)\n",
        "\n",
        "# Contar la cantidad de veces que se repiten los valores únicos\n",
        "conteo_valores = y_test.value_counts()\n",
        "\n",
        "# Mostrar el resultado\n",
        "print(conteo_valores)"
      ],
      "metadata": {
        "colab": {
          "base_uri": "https://localhost:8080/"
        },
        "id": "njMPi7LXdrhS",
        "outputId": "6bc16ad0-2f64-44cf-fc96-7b6d41486361"
      },
      "execution_count": 29,
      "outputs": [
        {
          "output_type": "stream",
          "name": "stdout",
          "text": [
            "Dangerous\n",
            "1            679\n",
            "0             16\n",
            "dtype: int64\n",
            "Dangerous\n",
            "1            170\n",
            "0              4\n",
            "dtype: int64\n"
          ]
        }
      ]
    },
    {
      "cell_type": "markdown",
      "source": [
        "## Parte 3: Uso de `xgboost.DMatrix`"
      ],
      "metadata": {
        "id": "VRDPTez1PyNl"
      }
    },
    {
      "cell_type": "code",
      "source": [
        "import numpy as np\n",
        "import xgboost as xgb\n",
        "import matplotlib.pyplot as plt\n",
        "from sklearn.model_selection import train_test_split\n",
        "from sklearn.metrics import roc_auc_score, accuracy_score, classification_report"
      ],
      "metadata": {
        "id": "s-cP_zK3jTqN"
      },
      "execution_count": 30,
      "outputs": []
    },
    {
      "cell_type": "code",
      "source": [
        "df = pd.read_csv('/content/clase_2_explicacion-regresion-logistica_multivariable.csv')"
      ],
      "metadata": {
        "id": "Cxp1HOd6QeNJ"
      },
      "execution_count": 31,
      "outputs": []
    },
    {
      "cell_type": "markdown",
      "source": [
        "Eliminar valores vacíos."
      ],
      "metadata": {
        "id": "57GaxsghQeUY"
      }
    },
    {
      "cell_type": "code",
      "source": [
        "df.dropna(inplace=True)"
      ],
      "metadata": {
        "id": "hw7Hn41eQeUY"
      },
      "execution_count": 32,
      "outputs": []
    },
    {
      "cell_type": "code",
      "source": [
        "# Extract text features\n",
        "cats = df.select_dtypes(exclude=np.number).columns.tolist()\n",
        "\n",
        "# Convert to Pandas category\n",
        "for col in cats:\n",
        "    df[col] = df[col].astype('category')"
      ],
      "metadata": {
        "id": "UFmFeC93jOam"
      },
      "execution_count": 33,
      "outputs": []
    },
    {
      "cell_type": "code",
      "source": [
        "# df[\"Dangerous\"] = df[\"Dangerous\"].astype('category')\n",
        "label_Dangerous = {'Yes': 1, 'No': 0}\n",
        "decode_Dangerous = { 0: 'No', 1: 'Yes',}\n",
        "df[\"Dangerous\"] = df['Dangerous'].map(label_Dangerous)\n",
        "df[\"Dangerous\"] = df[\"Dangerous\"].astype('int64')"
      ],
      "metadata": {
        "id": "DxbEGRmTP8xz"
      },
      "execution_count": 34,
      "outputs": []
    },
    {
      "cell_type": "code",
      "source": [
        "# Splitting the data into training and test sets\n",
        "X_train, X_test, y_train, y_test = train_test_split(X, y, test_size=0.2, random_state=42, stratify=y)\n",
        "\n",
        "# Create regression matrices\n",
        "dtrain_reg = xgb.DMatrix(data=X_train, label=y_train, enable_categorical=True)\n",
        "dtest_reg = xgb.DMatrix(data=X_test, label=y_test, enable_categorical=True)\n",
        "\n",
        "# Definir los parámetros del modelo\n",
        "params = {\n",
        "    'objective': 'binary:logistic',  # Utilizar la función de pérdida para regresión lineal\n",
        "    'eval_metric': ['auc'],  # Métrica de evaluación: Root Mean Squared Error (RMSE)\n",
        "    'booster': 'gbtree',  # Usar un booster lineal para regresión lineal\n",
        "    'enable_categorical': True,  # Habilitar compatibilidad con datos categóricos\n",
        "    'learning_rate': 0.05,\n",
        "    'n_estimators': 10, # Cantidad de gradiend boosted trees\n",
        "}\n",
        "\n",
        "# Entrenar el modelo\n",
        "evals = [(dtest_reg, \"validation\"), (dtrain_reg, \"train\")]\n",
        "evals_result = {}  # Almacenar los resultados de la evaluación\n",
        "\n",
        "modelo = xgb.train(params, dtrain_reg, num_boost_round=100,\n",
        "                   evals=evals,\n",
        "                   evals_result=evals_result,\n",
        "                   verbose_eval=1,\n",
        "                   early_stopping_rounds=5)\n",
        "\n",
        "# Extraer las métricas AUC del conjunto de validación y prueba\n",
        "auc_train = evals_result['train']['auc']\n",
        "auc_val = evals_result['validation']['auc']\n",
        "\n",
        "# Plotear las métricas AUC durante el entrenamiento\n",
        "epochs = len(auc_train)\n",
        "x_axis = range(0, epochs)\n",
        "\n",
        "plt.figure(figsize=(10, 6))\n",
        "plt.plot(x_axis, auc_train, label='Train')\n",
        "plt.plot(x_axis, auc_val, label='Validation')\n",
        "plt.xlabel('Epochs')\n",
        "plt.ylabel('AUC')\n",
        "plt.title('AUC durante el entrenamiento')\n",
        "plt.legend()\n",
        "plt.show()\n",
        "\n",
        "# Hacer predicciones en el conjunto de prueba\n",
        "predictions = modelo.predict(dtest_reg)\n",
        "\n",
        "# Aplicar umbral y calcular la precisión\n",
        "umbral = 0.5\n",
        "predictions = np.where(predictions > umbral, 1, 0)\n",
        "accuracy = accuracy_score(y_test, predictions)\n",
        "\n",
        "print(\"Accuracy:\", accuracy)\n",
        "print(\"\\nClassification Report:\")\n",
        "print(classification_report(y_test, predictions))\n"
      ],
      "metadata": {
        "colab": {
          "base_uri": "https://localhost:8080/",
          "height": 1000
        },
        "id": "YnzOiawm9eci",
        "outputId": "d2313155-2f5b-459c-eb98-678c37996b16"
      },
      "execution_count": 35,
      "outputs": [
        {
          "output_type": "stream",
          "name": "stdout",
          "text": [
            "[0]\tvalidation-auc:0.96912\ttrain-auc:0.89967\n",
            "[1]\tvalidation-auc:0.95368\ttrain-auc:0.90722\n",
            "[2]\tvalidation-auc:0.96838\ttrain-auc:0.90961\n",
            "[3]\tvalidation-auc:0.96618\ttrain-auc:0.90938\n",
            "[4]\tvalidation-auc:0.97059\ttrain-auc:0.91094\n",
            "[5]\tvalidation-auc:0.97647\ttrain-auc:0.91495\n",
            "[6]\tvalidation-auc:0.97353\ttrain-auc:0.91504\n",
            "[7]\tvalidation-auc:0.97206\ttrain-auc:0.91661\n",
            "[8]\tvalidation-auc:0.98382\ttrain-auc:0.91900\n",
            "[9]\tvalidation-auc:0.98529\ttrain-auc:0.91955\n",
            "[10]\tvalidation-auc:0.98529\ttrain-auc:0.92038\n",
            "[11]\tvalidation-auc:0.98382\ttrain-auc:0.92047\n",
            "[12]\tvalidation-auc:0.98235\ttrain-auc:0.92038\n",
            "[13]\tvalidation-auc:0.98088\ttrain-auc:0.92084\n",
            "[14]\tvalidation-auc:0.97941\ttrain-auc:0.92084\n",
            "[15]\tvalidation-auc:0.98088\ttrain-auc:0.92158\n",
            "[16]\tvalidation-auc:0.98088\ttrain-auc:0.92176\n",
            "[17]\tvalidation-auc:0.98088\ttrain-auc:0.92231\n",
            "[18]\tvalidation-auc:0.98235\ttrain-auc:0.92250\n",
            "[19]\tvalidation-auc:0.98235\ttrain-auc:0.92250\n",
            "[20]\tvalidation-auc:0.98382\ttrain-auc:0.92259\n",
            "[21]\tvalidation-auc:0.98382\ttrain-auc:0.92259\n",
            "[22]\tvalidation-auc:0.98235\ttrain-auc:0.92240\n",
            "[23]\tvalidation-auc:0.98382\ttrain-auc:0.92259\n",
            "[24]\tvalidation-auc:0.98382\ttrain-auc:0.92277\n",
            "[25]\tvalidation-auc:0.98529\ttrain-auc:0.92268\n",
            "[26]\tvalidation-auc:0.98235\ttrain-auc:0.92259\n",
            "[27]\tvalidation-auc:0.98676\ttrain-auc:0.92250\n",
            "[28]\tvalidation-auc:0.98676\ttrain-auc:0.92268\n"
          ]
        },
        {
          "output_type": "stream",
          "name": "stderr",
          "text": [
            "/usr/local/lib/python3.10/dist-packages/xgboost/core.py:160: UserWarning: [22:36:54] WARNING: /workspace/src/learner.cc:742: \n",
            "Parameters: { \"enable_categorical\", \"n_estimators\" } are not used.\n",
            "\n",
            "  warnings.warn(smsg, UserWarning)\n"
          ]
        },
        {
          "output_type": "display_data",
          "data": {
            "text/plain": [
              "<Figure size 1000x600 with 1 Axes>"
            ],
            "image/png": "[encoded data removed]"
          },
          "metadata": {}
        },
        {
          "output_type": "stream",
          "name": "stdout",
          "text": [
            "Accuracy: 0.9827586206896551\n",
            "\n",
            "Classification Report:\n",
            "              precision    recall  f1-score   support\n",
            "\n",
            "           0       1.00      0.25      0.40         4\n",
            "           1       0.98      1.00      0.99       170\n",
            "\n",
            "    accuracy                           0.98       174\n",
            "   macro avg       0.99      0.62      0.70       174\n",
            "weighted avg       0.98      0.98      0.98       174\n",
            "\n"
          ]
        }
      ]
    },
    {
      "cell_type": "markdown",
      "source": [
        "# Práctica calificada"
      ],
      "metadata": {
        "id": "vObyY9FuXwEY"
      }
    },
    {
      "cell_type": "markdown",
      "source": [
        "A partir del dataset ubicado en `/content/clase_2_explicacion-regresion-logistica_multivariable.csv` realizar la predicción utilizando los modelos de aprendizaje supervisado:\n",
        "\n",
        "- XGBoost.\n",
        "- Árbol de decisión.\n",
        "\n",
        "Para ello, deberá realizar:\n",
        "\n",
        "1. Análisis exploratorio de datos (EDA) incluyendo los gráficos necesarios para explicar las variables.\n",
        "  \n",
        "  Tienes libertad de usar la librería que más gustes (Matplotlib, Seaborn, Plotly).\n",
        "\n",
        "2. Utilizar los modelos de aprendizaje supervisado vistos en clase.\n",
        "\n",
        "  Crear al menos 2 diferentes modelos de regresión. Se recomienda utilizar diferentes hiperparámetros.\n",
        "\n",
        "3. Utilizar SHAP para explicar las variables que impactan más en el modelo.\n",
        "\n",
        "    Responder las preguntas que se encuentran al final del ejercicio."
      ],
      "metadata": {
        "id": "SyCSEqIdssQM"
      }
    },
    {
      "cell_type": "code",
      "source": [
        "# Exploratory Data Analysis\n",
        "\n",
        "import seaborn as sns\n",
        "import matplotlib.pyplot as plt\n",
        "\n",
        "# EDA\n",
        "# Visualización de la distribución de la variable objetivo\n",
        "sns.countplot(x='Dangerous', data=df)\n",
        "plt.title('Distribución de la Variable Objetivo')\n",
        "plt.show()\n",
        "\n",
        "# Visualización de la relación entre variables\n",
        "plt.figure(figsize=(12, 8))\n",
        "sns.heatmap(df.corr(), annot=True, cmap='coolwarm', fmt='.2f')\n",
        "plt.title('Matriz de Correlación')\n",
        "plt.show()\n",
        "\n",
        "# Visualización de la distribución de las variables numéricas\n",
        "df.hist(figsize=(12, 10), bins=20)\n",
        "plt.suptitle('Distribución de Variables Numéricas', y=1.02)\n",
        "plt.show()"
      ],
      "metadata": {
        "id": "acnJ70J9BNR5",
        "colab": {
          "base_uri": "https://localhost:8080/",
          "height": 1000
        },
        "outputId": "07f52853-fb2e-4ae4-ccad-ebe44e5954a9"
      },
      "execution_count": 48,
      "outputs": [
        {
          "output_type": "display_data",
          "data": {
            "text/plain": [
              "<Figure size 640x480 with 1 Axes>"
            ],
            "image/png": "[encoded data removed]"
          },
          "metadata": {}
        },
        {
          "output_type": "stream",
          "name": "stderr",
          "text": [
            "The default value of numeric_only in DataFrame.corr is deprecated. In a future version, it will default to False. Select only valid columns or specify the value of numeric_only to silence this warning.\n"
          ]
        },
        {
          "output_type": "display_data",
          "data": {
            "text/plain": [
              "<Figure size 1200x800 with 2 Axes>"
            ],
            "image/png": "[encoded data removed]"
          },
          "metadata": {}
        },
        {
          "output_type": "display_data",
          "data": {
            "text/plain": [
              "<Figure size 1200x1000 with 1 Axes>"
            ],
            "image/png": "[encoded data removed]"
          },
          "metadata": {}
        }
      ]
    },
    {
      "cell_type": "code",
      "source": [
        "# Modelo 1: XGBoost\n",
        "\n",
        "# Split de la data\n",
        "X_train, X_test, y_train, y_test = train_test_split(X, y, test_size=0.2, random_state=42, stratify=y)\n",
        "\n",
        "# Crear XGBoost classifier\n",
        "model_xgb = xgb.XGBClassifier(\n",
        "    objective='binary:logistic',\n",
        "    enable_categorical=True,\n",
        "    random_state=42\n",
        ")\n",
        "\n",
        "# Entrenar el modelo en los datos de entrenamiento\n",
        "model_xgb.fit(X_train, y_train)\n",
        "\n",
        "# Realizar predicciones en el conjunto de prueba\n",
        "predictions_xgb = model_xgb.predict(X_test)\n",
        "\n",
        "# Calcular la exactitud\n",
        "accuracy_xgb = accuracy_score(y_test, predictions_xgb)\n",
        "print(\"XGBoost Accuracy:\", accuracy_xgb)\n",
        "\n",
        "# Crear un objeto TreeExplainer para el modelo XGBoost\n",
        "explainer_xgboost = shap.TreeExplainer(model_xgb)\n",
        "\n",
        "# Calcular los valores SHAP para un conjunto de datos (puedes usar datos de entrenamiento o prueba)\n",
        "shap_values_xgboost = explainer_xgboost.shap_values(X_train)\n",
        "\n",
        "# Mostrar un resumen del impacto de las características en las predicciones\n",
        "shap.summary_plot(shap_values_xgboost, X_train)\n"
      ],
      "metadata": {
        "colab": {
          "base_uri": "https://localhost:8080/",
          "height": 452
        },
        "id": "sx10Gyi3CYxG",
        "outputId": "d3b0fb81-9840-495a-f704-d5ec82afcbd8"
      },
      "execution_count": 70,
      "outputs": [
        {
          "output_type": "stream",
          "name": "stdout",
          "text": [
            "XGBoost Accuracy: 0.9942528735632183\n"
          ]
        },
        {
          "output_type": "stream",
          "name": "stderr",
          "text": [
            "[01:41:49] WARNING: /workspace/src/c_api/c_api.cc:1240: Saving into deprecated binary model format, please consider using `json` or `ubj`. Model format will default to JSON in XGBoost 2.2 if not specified.\n"
          ]
        },
        {
          "output_type": "display_data",
          "data": {
            "text/plain": [
              "<Figure size 800x390 with 2 Axes>"
            ],
            "image/png": "[encoded data removed]"
          },
          "metadata": {}
        }
      ]
    },
    {
      "cell_type": "code",
      "source": [
        "# Modelo 2: Decision tree\n",
        "\n",
        "from sklearn.tree import DecisionTreeClassifier\n",
        "\n",
        "# Crear Decision Tree classifier\n",
        "model_tree = DecisionTreeClassifier(random_state=42)\n",
        "\n",
        "# Entrenar el modelo en los datos de entrenamiento\n",
        "model_tree.fit(X_train, y_train)\n",
        "\n",
        "# Realizar predicciones en el conjunto de prueba\n",
        "predictions_tree = model_tree.predict(X_test)\n",
        "\n",
        "# Calcular la exactitud\n",
        "accuracy_tree = accuracy_score(y_test, predictions_tree)\n",
        "print(\"Decision Tree Accuracy:\", accuracy_tree)\n",
        "\n",
        "# Crear un objeto TreeExplainer para el modelo de árbol de decisión\n",
        "explainer_decision_tree = shap.TreeExplainer(model_tree)\n",
        "\n",
        "# Calcular los valores SHAP para un conjunto de datos\n",
        "shap_values_decision_tree = explainer_decision_tree.shap_values(X_train)\n",
        "\n",
        "# Mostrar un resumen del impacto de las características en las predicciones\n",
        "shap.summary_plot(shap_values_decision_tree, X_train)\n"
      ],
      "metadata": {
        "colab": {
          "base_uri": "https://localhost:8080/",
          "height": 414
        },
        "id": "gDZAYOP5CZJQ",
        "outputId": "54fed84b-81c7-4642-de60-663e5df3d3b6"
      },
      "execution_count": 71,
      "outputs": [
        {
          "output_type": "stream",
          "name": "stdout",
          "text": [
            "Decision Tree Accuracy: 0.9942528735632183\n"
          ]
        },
        {
          "output_type": "display_data",
          "data": {
            "text/plain": [
              "<Figure size 800x390 with 1 Axes>"
            ],
            "image/png": "[encoded data removed]"
          },
          "metadata": {}
        }
      ]
    },
    {
      "cell_type": "markdown",
      "source": [
        "Interpretando los resultados con SHAP"
      ],
      "metadata": {
        "id": "uHGXROcWCQPR"
      }
    },
    {
      "cell_type": "code",
      "source": [
        "!pip install shap"
      ],
      "metadata": {
        "colab": {
          "base_uri": "https://localhost:8080/"
        },
        "id": "8UnJ-t3ZCXu6",
        "outputId": "9d088737-3986-44aa-8ec0-29947adc0869"
      },
      "execution_count": 52,
      "outputs": [
        {
          "output_type": "stream",
          "name": "stdout",
          "text": [
            "Requirement already satisfied: shap in /usr/local/lib/python3.10/dist-packages (0.43.0)\n",
            "Requirement already satisfied: numpy in /usr/local/lib/python3.10/dist-packages (from shap) (1.23.5)\n",
            "Requirement already satisfied: scipy in /usr/local/lib/python3.10/dist-packages (from shap) (1.11.4)\n",
            "Requirement already satisfied: scikit-learn in /usr/local/lib/python3.10/dist-packages (from shap) (1.2.2)\n",
            "Requirement already satisfied: pandas in /usr/local/lib/python3.10/dist-packages (from shap) (1.5.3)\n",
            "Requirement already satisfied: tqdm>=4.27.0 in /usr/local/lib/python3.10/dist-packages (from shap) (4.66.1)\n",
            "Requirement already satisfied: packaging>20.9 in /usr/local/lib/python3.10/dist-packages (from shap) (23.2)\n",
            "Requirement already satisfied: slicer==0.0.7 in /usr/local/lib/python3.10/dist-packages (from shap) (0.0.7)\n",
            "Requirement already satisfied: numba in /usr/local/lib/python3.10/dist-packages (from shap) (0.58.1)\n",
            "Requirement already satisfied: cloudpickle in /usr/local/lib/python3.10/dist-packages (from shap) (2.2.1)\n",
            "Requirement already satisfied: llvmlite<0.42,>=0.41.0dev0 in /usr/local/lib/python3.10/dist-packages (from numba->shap) (0.41.1)\n",
            "Requirement already satisfied: python-dateutil>=2.8.1 in /usr/local/lib/python3.10/dist-packages (from pandas->shap) (2.8.2)\n",
            "Requirement already satisfied: pytz>=2020.1 in /usr/local/lib/python3.10/dist-packages (from pandas->shap) (2023.3.post1)\n",
            "Requirement already satisfied: joblib>=1.1.1 in /usr/local/lib/python3.10/dist-packages (from scikit-learn->shap) (1.3.2)\n",
            "Requirement already satisfied: threadpoolctl>=2.0.0 in /usr/local/lib/python3.10/dist-packages (from scikit-learn->shap) (3.2.0)\n",
            "Requirement already satisfied: six>=1.5 in /usr/local/lib/python3.10/dist-packages (from python-dateutil>=2.8.1->pandas->shap) (1.16.0)\n"
          ]
        }
      ]
    },
    {
      "cell_type": "code",
      "source": [
        "import shap"
      ],
      "metadata": {
        "id": "3zsCiJTgCYw_"
      },
      "execution_count": 53,
      "outputs": []
    },
    {
      "cell_type": "code",
      "source": [
        "# Crear un objeto TreeExplainer\n",
        "explainer = shap.TreeExplainer(modelo)\n",
        "\n",
        "# Calcular los valores SHAP para un conjunto de datos (puedes usar datos de entrenamiento o prueba)\n",
        "shap_values = explainer.shap_values(X_train)\n",
        "\n",
        "# Mostrar un resumen del impacto de las características en las predicciones\n",
        "shap.summary_plot(shap_values, X_train)"
      ],
      "metadata": {
        "colab": {
          "base_uri": "https://localhost:8080/",
          "height": 434
        },
        "id": "4pMV0m4NCR8A",
        "outputId": "b3c6a640-d250-498f-fb2c-019026081638"
      },
      "execution_count": 65,
      "outputs": [
        {
          "output_type": "stream",
          "name": "stderr",
          "text": [
            "[01:18:07] WARNING: /workspace/src/c_api/c_api.cc:1240: Saving into deprecated binary model format, please consider using `json` or `ubj`. Model format will default to JSON in XGBoost 2.2 if not specified.\n"
          ]
        },
        {
          "output_type": "display_data",
          "data": {
            "text/plain": [
              "<Figure size 800x390 with 2 Axes>"
            ],
            "image/png": "[encoded data removed]"
          },
          "metadata": {}
        }
      ]
    },
    {
      "cell_type": "markdown",
      "source": [
        "## **Responde aquí las siguientes preguntas**\n",
        "\n",
        "**Pregunta 1:**\n",
        "\n",
        "¿Cómo interpretas los resultados?\n"
      ],
      "metadata": {
        "id": "cq1JYxmSqrbS"
      }
    },
    {
      "cell_type": "code",
      "source": [
        "# Celda para colocar tu respuesta.\n",
        "\n",
        "# Coloca tu respuesta debajo de esta línea.\n",
        "\n",
        "print('Los modelos de clasificación, especialmente XGBoost, muestran una alta precisión en la predicción de la variable objetivo \"Dangerous\".\\nSe obtuvieron valores de precisión cercanos al 99% en el conjunto de prueba para ambas clases (\"Yes\" y \"No\"). El análisis de SHAP revela\\nque las variables tienen mayor impacto positivo pues su ubican con alta magnitud en el lado derecho de la gráfica.')\n"
      ],
      "metadata": {
        "id": "rnHN30b1N3Ox",
        "colab": {
          "base_uri": "https://localhost:8080/"
        },
        "outputId": "ae1abd44-7625-49e5-b1d3-da7747d0c7dd"
      },
      "execution_count": 86,
      "outputs": [
        {
          "output_type": "stream",
          "name": "stdout",
          "text": [
            "Los modelos de clasificación, especialmente XGBoost, muestran una alta precisión en la predicción de la variable objetivo \"Dangerous\".\n",
            "Se obtuvieron valores de precisión cercanos al 99% en el conjunto de prueba para ambas clases (\"Yes\" y \"No\"). El análisis de SHAP revela\n",
            "que las variables tienen mayor impacto positivo pues su ubican con alta magnitud en el lado derecho de la gráfica.\n"
          ]
        }
      ]
    },
    {
      "cell_type": "markdown",
      "source": [
        "\n",
        "**Pregunta 2:**\n",
        "\n",
        "¿Qué variables están impactando más en el modelo de clasificación multivariable?\n",
        "\n",
        "Comparar todos los modelos desarrollados.\n"
      ],
      "metadata": {
        "id": "HdlAS62KOHNf"
      }
    },
    {
      "cell_type": "code",
      "source": [
        "# Celda para colocar tu respuesta.\n",
        "\n",
        "# Coloca tu respuesta debajo de esta línea.\n",
        "\n",
        "print('Al comparar los dos modelos, observamos similitudes y diferencias en las variables más impactantes. Los modelos parecen dar importancia al nombre del animal pues se\\nencuentra dispersa entre datos de impacto positivos y negativos en el modelo, pero estos tienen mayor impacto en el lado positivo del resumen.\\nAsimismo, la contribución de los otros sintomas tambien tienen un papel destacado en el modelo XGBoost en comparación con el árbol de decisión.\\nEn resumen, la interpretación de las variables más impactantes varía entre los modelos, y esta información puede ser crucial para\\ncomprender cómo cada algoritmo considera diferentes aspectos de los datos en el proceso de toma de decisiones.')"
      ],
      "metadata": {
        "id": "zyTJqSMeOI1V",
        "colab": {
          "base_uri": "https://localhost:8080/"
        },
        "outputId": "75fe6291-44f4-4d63-af21-9d68e81710fa"
      },
      "execution_count": 85,
      "outputs": [
        {
          "output_type": "stream",
          "name": "stdout",
          "text": [
            "Al comparar los dos modelos, observamos similitudes y diferencias en las variables más impactantes. Los modelos parecen dar importancia al nombre del animal pues se\n",
            "encuentra dispersa entre datos de impacto positivos y negativos en el modelo, pero estos tienen mayor impacto en el lado positivo del resumen.\n",
            "Asimismo, la contribución de los otros sintomas tambien tienen un papel destacado en el modelo XGBoost en comparación con el árbol de decisión.\n",
            "En resumen, la interpretación de las variables más impactantes varía entre los modelos, y esta información puede ser crucial para\n",
            "comprender cómo cada algoritmo considera diferentes aspectos de los datos en el proceso de toma de decisiones.\n"
          ]
        }
      ]
    },
    {
      "cell_type": "markdown",
      "source": [
        "\n",
        "**Pregunta 3:**\n",
        "\n",
        "¿Qué recomendaciones harías para mejorar los modelos anteriores? Y ¿Qué recomendaciones harías para mejorar el modelo que creaste?\n",
        "\n",
        "\n",
        "```\n",
        "Por ejemplo, el dataset contiene datos duplicados. ¿Qué harías con los datos duplicados?\n",
        "¿Los eliminarías, no los eliminarías?, ¿aumentarías la candidad de granularidad o detalle para cada observación?\n",
        "```\n",
        "\n",
        "\n",
        "\n"
      ],
      "metadata": {
        "id": "GbN_tqJtOH95"
      }
    },
    {
      "cell_type": "code",
      "source": [
        "# Celda para colocar tu respuesta.\n",
        "\n",
        "# Coloca tu respuesta debajo de esta línea.\n",
        "\n",
        "print('Eliminar datos duplicados, ajustar parametros para mejorar el rendimiento del modelo, interpretacion continua con herramientas\\nadicionales para comprender mejor la relacion entre variables y predicciones.\\nFinalmente, quiza crear nuevas caracteristicas a partir de las existentes para capturar patrones mas complejos.')\n"
      ],
      "metadata": {
        "id": "AaK1w9w0OJR8",
        "colab": {
          "base_uri": "https://localhost:8080/"
        },
        "outputId": "b8279c5b-0086-4c0f-8923-76fdb530dfa3"
      },
      "execution_count": 87,
      "outputs": [
        {
          "output_type": "stream",
          "name": "stdout",
          "text": [
            "Eliminar datos duplicados, ajustar parametros para mejorar el rendimiento del modelo, interpretacion continua con herramientas\n",
            "adicionales para comprender mejor la relacion entre variables y predicciones.\n",
            "Finalmente, quiza crear nuevas caracteristicas a partir de las existentes para capturar patrones mas complejos.\n"
          ]
        }
      ]
    },
    {
      "cell_type": "markdown",
      "source": [
        "## Puntos extra (Despliegue en Hugging Face)"
      ],
      "metadata": {
        "id": "V-EAVpIDBrWR"
      }
    },
    {
      "cell_type": "markdown",
      "source": [
        "Para acceder a los puntos extra de la práctica calificada, deberás desplegar el modelo que has creado en HuggingFace.com.\n",
        "\n",
        "Recuerda:\n",
        "\n",
        "1. Guardar el modelo en formato JSON.\n",
        "\n",
        "2. Utilizar la librería Gradio para crear la interfaz de usuario para interactuar con el modelo y realizar las predicciones.\n"
      ],
      "metadata": {
        "id": "JpTU-_4XBvYF"
      }
    },
    {
      "cell_type": "code",
      "source": [
        "# Ejemplo de cómo almacenar el modelo en un archivo JSON\n",
        "\n",
        "# nombre_de_tu_modelo.save_model('nombre_de_tu_modelo.json')\n"
      ],
      "metadata": {
        "id": "OtH6Ex7FBp2R"
      },
      "execution_count": 44,
      "outputs": []
    },
    {
      "cell_type": "code",
      "source": [
        "config_data = {\n",
        "    \"modelo\": \"tarea2\",\n",
        "    \"hiperparametros\": {\n",
        "        \"learning_rate\": 0.1,\n",
        "        \"max_depth\": 5,\n",
        "        \"n_estimators\": 100\n",
        "    },\n",
        "    \"otros_parametros\": \"valor\"\n",
        "}\n"
      ],
      "metadata": {
        "id": "BcGiISJLk7sV"
      },
      "execution_count": 89,
      "outputs": []
    },
    {
      "cell_type": "code",
      "source": [
        "import json\n",
        "\n",
        "# Nombre del archivo JSON\n",
        "json_file_path = 'config.json'\n",
        "\n",
        "# Convertir el diccionario a una cadena JSON y guardarlo en el archivo\n",
        "with open(json_file_path, 'w') as json_file:\n",
        "    json.dump(config_data, json_file, indent=4)\n"
      ],
      "metadata": {
        "id": "q_Z1zoQyk-Cv"
      },
      "execution_count": 90,
      "outputs": []
    }
  ]
}